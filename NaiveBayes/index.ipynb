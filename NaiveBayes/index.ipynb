{
 "cells": [
  {
   "cell_type": "code",
   "metadata": {
    "ExecuteTime": {
     "end_time": "2025-02-26T10:38:27.780934Z",
     "start_time": "2025-02-26T10:38:27.772506Z"
    }
   },
   "source": [
    "import os\n",
    "import string\n",
    "import numpy as np\n",
    "import pandas as pd\n",
    "import matplotlib.pyplot as plt\n",
    "from sklearn import model_selection\n",
    "from sklearn.metrics import classification_report\n",
    "\n",
    "from utils import stopwords"
   ],
   "outputs": [],
   "execution_count": 212
  },
  {
   "metadata": {
    "ExecuteTime": {
     "end_time": "2025-02-26T10:38:27.888585Z",
     "start_time": "2025-02-26T10:38:27.861738Z"
    }
   },
   "cell_type": "code",
   "source": [
    "\n",
    "df = pd.read_csv(\"../data/claude.csv\")\n",
    "print(len(pd.unique(df[\"comment\"])))\n"
   ],
   "outputs": [
    {
     "name": "stdout",
     "output_type": "stream",
     "text": [
      "337\n"
     ]
    }
   ],
   "execution_count": 213
  },
  {
   "metadata": {
    "ExecuteTime": {
     "end_time": "2025-02-26T10:38:27.944135Z",
     "start_time": "2025-02-26T10:38:27.909585Z"
    }
   },
   "cell_type": "code",
   "source": [
    "n = (len(df[\"label\"]))\n",
    "x = []\n",
    "y = []\n",
    "for i in range(0, n):\n",
    "    x.append(df[\"comment\"][i])\n",
    "    y.append(df[\"label\"][i])\n",
    "\n",
    "x_train, x_test, y_train, y_test = model_selection.train_test_split(x, y, test_size=0.25,\n",
    "                                                                    random_state=0)\n"
   ],
   "outputs": [],
   "execution_count": 214
  },
  {
   "metadata": {
    "ExecuteTime": {
     "end_time": "2025-02-26T10:38:28.061113Z",
     "start_time": "2025-02-26T10:38:27.994134Z"
    }
   },
   "cell_type": "code",
   "source": [
    "vocab = {}\n",
    "for i in range(len(x_train)):\n",
    "    word_list = []\n",
    "    for word in x_train[i].split():\n",
    "        new_word = word.strip(string.punctuation).lower()\n",
    "        if (len(new_word) > 2) and (new_word not in stopwords):\n",
    "            # if len(new_word) > 2:\n",
    "            if new_word in vocab:\n",
    "                vocab[new_word] += 1\n",
    "            else:\n",
    "                vocab[new_word] = 1\n"
   ],
   "outputs": [],
   "execution_count": 215
  },
  {
   "metadata": {
    "ExecuteTime": {
     "end_time": "2025-02-26T10:38:28.671111Z",
     "start_time": "2025-02-26T10:38:28.128114Z"
    }
   },
   "cell_type": "code",
   "source": [
    "num_words = [0 for i in range(max(vocab.values()) + 1)]\n",
    "freq = [i for i in range(max(vocab.values()) + 1)]\n",
    "for key in vocab:\n",
    "    num_words[vocab[key]] += 1\n",
    "plt.plot(freq, num_words)\n",
    "# plt.axis((1, 10, 0, 100))\n",
    "plt.xlabel(\"Frequency\")\n",
    "plt.ylabel(\"No. of words\")\n",
    "plt.grid()\n",
    "plt.show()"
   ],
   "outputs": [
    {
     "data": {
      "text/plain": [
       "<Figure size 640x480 with 1 Axes>"
      ],
      "image/png": "[encoded data removed]"
     },
     "metadata": {},
     "output_type": "display_data"
    }
   ],
   "execution_count": 216
  },
  {
   "metadata": {
    "ExecuteTime": {
     "end_time": "2025-02-26T10:38:28.791161Z",
     "start_time": "2025-02-26T10:38:28.771164Z"
    }
   },
   "cell_type": "code",
   "source": [
    "cutoff_freq = 1\n",
    "features = []\n",
    "for key in vocab:\n",
    "    if vocab[key] >= cutoff_freq:\n",
    "        features.append(key)\n",
    "\n",
    "print(features)"
   ],
   "outputs": [
    {
     "name": "stdout",
     "output_type": "stream",
     "text": [
      "['noise', 'construction', 'main', 'street', 'starts', 'way', 'permitted', '7am', 'time', 'unacceptable', \"i'd\", 'like', 'propose', 'program', 'connects', 'local', 'farmers', 'school', 'cafeterias', 'provide', 'fresh', 'produce', 'students', 'severely', 'impacted', 'businesses', 'project', 'end', 'sight', 'road', 'elm', 'dragged', 'months', 'projected', 'completion', 'date', 'minimal', 'progress', 'city', 'promised', 'install', 'crosswalk', 'busy', 'intersection', 'near', 'senior', 'center', 'years', 'ago', 'planned', 'power', 'outages', 'maintenance', 'frequent', 'poorly', 'communicated', 'residents', 'highway', 'expansion', 'routinely', 'exceeds', 'decibel', 'levels', 'allowed', 'hours', 'commend', \"city's\", 'social', 'media', 'team', 'keeping', 'informed', 'recent', 'severe', 'weather', 'event', 'despite', 'numerous', 'complaints', 'failed', 'address', 'persistent', 'flooding', 'issues', 'cedar', 'lane', 'rainstorms', 'know', 'documents', 'need', 'bring', 'applying', 'permit', 'renovate', 'kitchen', 'process', 'obtaining', 'block', 'party', 'neighborhood', 'apply', 'reduced', 'fare', 'public', 'transportation', 'based', 'income', 'disability', 'sweeping', 'schedule', 'inconsistent', 'resulting', 'unnecessary', 'parking', 'tickets', 'thank', 'planner', 'designed', 'new', 'community', \"it's\", 'beautiful', 'functional', 'want', 'parks', 'department', 'adding', 'benches', 'walking', 'trails', 'paths', 'accessible', 'information', 'vaccination', 'clinics', 'seniors', 'mentioned', \"month's\", 'newsletter', 'steps', 'register', 'child', 'after-school', 'programs', 'recreation', 'quality', 'water', 'deteriorated', 'significantly', 'visible', 'sediment', 'unpleasant', 'odor', 'restrooms', 'central', 'park', 'consistently', 'unsanitary', 'lack', 'basic', 'supplies', 'soap', 'toilet', 'paper', 'sanitation', 'workers', 'went', 'flood', 'cleanup', 'efforts', 'explain', 'zoning', 'regulations', 'home-based', 'multiple', 'requests', 'addressed', 'illegal', 'dumping', 'happening', 'vacant', 'lot', 'requirements', 'establishing', 'watch', 'suggest', 'implementing', 'offers', 'rebates', 'water-saving', 'fixtures', 'homes', 'timing', 'traffic', 'lights', 'downtown', 'creates', 'congestion', 'rush', 'hour', 'streetlights', 'maple', 'avenue', 'weeks', 'creating', 'safety', 'hazard', 'pedestrians', 'night', 'condition', 'tennis', 'courts', 'point', \"they're\", 'unusable', 'online', 'application', 'greatly', 'simplified', 'home', 'improvement', 'projects', 'great', 'job', 'modernizing', 'outstanding', 'maintaining', 'flower', 'gardens', 'year', 'police', \"department's\", 'outreach', 'noticeable', 'difference', 'officers', 'approachable', 'requesting', 'study', 'speeding', 'dangerous', 'wastewater', 'treatment', 'plant', 'unbearable', 'nearby', 'especially', 'hot', 'holiday', 'decorations', 'created', 'festive', 'atmosphere', 'input', 'proposed', 'changes', 'district', 'boundaries', 'layout', 'maximizes', 'space', 'beautifully', 'includes', 'pressure', 'decreased', 'past', 'explanation', 'utility', 'energy', 'audit', 'insert', 'request', 'installation', 'light', 'dark', 'area', 'appeal', 'property', 'tax', 'assessment', 'believe', \"there's\", 'error', 'calculation', 'repairs', 'roof', 'delayed', 'repeatedly', 'causing', 'cancellations', 'rains', 'trash', \"wasn't\", 'collected', 'second', 'week', 'row', 'calls', 'animal', 'control', 'officer', 'helped', 'rescue', 'stray', 'dog', 'yesterday', 'professional', \"i'm\", 'impressed', 'quick', 'response', 'storm', 'crews', 'worked', 'clock', 'restore', 'service', 'playground', 'equipment', 'wonderful', 'addition', 'allows', 'children', 'abilities', 'play', 'suggestion', 'transit', 'authority', 'create', 'mobile', 'app', 'shows', 'real-time', 'bus', 'locations', 'arrival', 'estimates', 'day', 'garbage', 'collection', 'change', 'recycling', 'education', 'informative', 'well-presented', 'family', 'reduce', 'waste', 'reporting', 'streetlight', 'flickers', 'constantly', 'excessive', 'use', 'herbicides', 'poses', 'health', 'risks', 'pets', 'spaces', 'memorial', 'benefit', 'bike-sharing', 'promote', 'beneficial', 'intergenerational', 'connect', 'youth', 'mentoring', 'opportunities', 'affordable', 'housing', 'options', 'industrial', 'people', 'work', 'bike', 'network', 'commuting', 'bicycle', 'safer', 'convenient', 'drains', 'pine', 'clogged', 'moderate', 'rainfall', 'participatory', 'budgeting', 'vote', 'spend', 'portion', 'funds', 'facilities', 'excellent', 'staff', 'friendly', 'requested', 'speed', 'bumps', 'times', 'drivers', \"we've\", 'received', 'sunset', 'broken', 'components', 'pose', 'abandoned', 'vehicles', \"haven't\", 'enforcement', 'consider', 'repurpose', 'commercial', 'buildings', 'express', 'appreciation', 'library', 'organized', 'summer', 'reading', 'guidelines', 'installing', 'fence', 'residential', 'improvements', 'riverfront', 'absolutely', 'seating', 'areas', 'transformed', 'recommend', 'encourages', 'native', 'species', 'yards', 'support', 'wildlife', 'shade', 'trees', 'pedestrian', 'routes', 'combat', 'urban', 'heat', 'islands', 'free', 'shuttle', 'hospital', 'assist', 'patients', 'limited', 'resources', 'available', 'assistance', 'bills', 'extreme', 'website', 'finding', 'accessing', 'services', 'easier', 'restrictions', 'operating', 'business', 'facility', 'river', 'frequently', 'extending', 'weekends', 'implement', 'helps', 'low-income', 'energy-efficient', 'appliance', 'upgrades', 'gratitude', 'reported', 'injured', 'deer', 'backyard', 'retirees', 'volunteer', 'skills', 'departments', 'sign', 'language', 'interpreter', \"week's\", 'forum', 'making', 'events', 'citizens', 'participate', 'upcoming', 'planning', 'workshops', 'revitalization', 'first-time', 'homebuyer', 'offered', 'leaf', 'executed', 'piles', 'left', 'streets', 'pool', 'closed', 'hottest', 'ridiculous', 'citizen', 'advisory', 'board', 'improve', 'relations', 'transparency', 'weatherization', 'town', 'meeting', 'effective', 'informational', 'materials', 'clear', 'helpful', 'fines', 'paid', 'monetary', 'penalties', \"hasn't\", 'fixed', 'large', 'pothole', 'oak', 'damaged', 'cars', 'riverside', 'drive', 'completely', 'leash', 'law', 'makes', 'incentives', 'hire', 'locally', 'electric', 'vehicle', 'charging', 'stations', 'garages', 'concert', 'series', 'exceptional', 'bringing', 'diverse', 'musical', 'talent', 'election', 'garden', 'designated', 'loading', 'zones', 'delivery', 'trucks', 'double-parking', 'pioneer', \"park's\", 'pieces', 'sharp', 'edges', 'safe', 'schools', 'improved', 'crosswalks', 'signage', 'crossing', 'guards', 'method', 'affect', 'rates', 'provides', 'medical', 'appointments', 'grocery', 'stores', 'expanding', 'tree', 'planting', 'focus', 'canopy', 'coverage', 'solar-powered', 'sustainability', 'snow', 'removal', 'crew', 'hard', 'properties', 'month', 'higher', 'normal', 'apparent', 'leak', 'volunteers', 'amazing', 'weekend', 'remarkable', 'small', 'owners', 'seeking', 'open', 'storefront', 'wait', 'dmv', 'spent', 'entire', 'waiting', \"didn't\", 'served', 'rate', 'increase', 'disproportionately', 'affects', 'families', 'progressive', 'structure', 'recurring', 'ignored', 'receive', 'prompt', 'attention', 'affected', 'meal', 'garage', 'accommodate', 'evening', 'performing', 'arts', 'working', \"can't\", 'access', 'standard', 'academy', 'responsible', 'bins', 'homeowners', 'convert', 'unused', 'accessory', 'dwelling', 'units', 'noticeably', 'smell', 'taste', 'high', 'earn', 'helping', 'maintain', 'tirelessly', 'snowstorm', 'kept', 'text', 'alert', 'breaks', 'boil', 'advisories', 'site', 'continues', 'eyesore', 'adopt', 'sustainable', 'practices', 'customer', 'representative', 'hall', 'exceptionally', 'resolving', 'issue', 'patient', 'deserve', 'recognition', 'childcare', 'forcing', 'parents', 'choose', 'permits', 'required', 'solar', 'panels', 'efficiently', 'voting', 'handled', 'conservation', 'johnson', 'compassionate', 'handling', 'situation', 'lincoln', 'showed', 'true', 'professionalism', 'easily', 'report', 'potholes', 'grateful', 'carbon', 'monoxide', 'alarm', 'prepare', 'replacement', 'closures', 'private', 'significant', 'hardships', 'coffee', 'cop', 'built', 'trust', 'gather', 'cultural', 'performances', 'young', 'knowledge', 'sharing', 'emergency', 'gas', 'reassuring', 'employment', 'positive', 'teenager', 'valuable', 'opportunity', 'non-emergency', 'fantastic', 'intuitive', 'trail', 'maps', 'detailed', 'visitors', \"center's\", 'fitness', 'impressive', 'investing', 'quickly', 'graffiti', 'removed', 'thorough', 'tool', 'libraries', 'borrow', 'composting', 'food', 'landfill', 'usage', 'vegetable', 'underserved', 'neighborhoods', 'security', 'nutrition', 'communication', 'timely', 'efficiency', 'renovation', 'promptly', 'professionally', 'outage', 'utilities', 'responded', 'break', 'substandard', 'filled', 'deteriorating', 'offer', 'dealing', 'pest', 'historic', 'preservation', 'grants', 'artists', 'murals', 'celebrate', 'diversity', 'increased', 'aircraft', 'flight', 'impacting', 'life', 'appealing', 'inaccurately', 'incentive', 'lots', 'green', 'elementary', 'signals', \"they've\", 'hold', 'charity', 'fundraising', 'square', 'evaluation', 'efficient', 'appreciate', 'technological', 'upgrade', 'ordinance', \"isn't\", 'enforced', 'parties', '2am', 'weeknights', 'market', 'highlight', 'routine', 'timeline', 'roadwork', 'long', 'detours', 'place', 'frustrated', 'constant', 'delays', 'route', 'unreliable', 'repair', 'greenway', 'extremely', 'useful', 'popular', 'catch', 'roaming', 'kind', 'getting', 'financial', 'lead', 'pipe', 'older', 'winter', 'abysmal', 'plowed', 'days', 'storms', 'pairs', 'tech-savvy', 'help', 'navigating', 'government', 'weak', 'off-leash', 'dogs', 'pet', 'ownership', 'blowers', 'air', 'pollution', 'workshop', 'learn', 'practical', 'confusing', 'resulted', 'missed', 'pickups', 'inadequate', 'leaving', 'unprepared', 'disruptions', 'council', 'listening', 'concerns', 'development', 'appropriate', 'plan', 'exam', 'periods', 'quiet', 'prioritizes', 'roads', 'neglecting', 'speak', 'rezoning', 'low-interest', 'loans', 'rehabilitation', 'grant', 'community-led', 'beautification', 'initiatives', 'municipal', 'set', 'example', 'replace', 'concrete', 'driveways', 'permeable', 'surfaces', 'runoff', 'restaurants', 'donate', 'excess', 'shelters', 'supporting', 'agriculture', 'vibrant', 'really', 'revitalized', 'regarding', 'chickens', 'remove', 'diseased', 'repaired', 'digital', 'literacy', 'knocked', 'corner', '5th', 'willing', 'crashed', 'payments', 'incur', 'late', 'fees', 'fault', 'splash', 'pad', 'jefferson', 'grandchildren', 'love', 'sidewalk', 'washington', 'elderly', 'debris', 'reductions', 'infrastructure', 'rain', 'student', 'loan', 'forgiveness', 'teachers', 'commit', 'policy', 'prioritizing', 'preserving', 'mature', 'destroying', \"neighborhood's\", 'character', 'displays', 'spring', 'city-wide', 'wifi', 'bridge', 'divide', 'walk', 'fix-it', 'ticket', 'minor', 'code', 'violations', 'gives', 'facing', 'procedure', 'potentially', 'airplane', 'guard', 'potential', 'solution', 'encourage', 'flexible', 'employees', 'denied', 'water-intensive', 'lawns', 'drought-resistant', 'landscaping', 'costs', 'bank', 'exchange', 'money', 'dedicated', 'pickleball', 'growing', 'popularity', 'sport', 'collectors', 'leave', 'mess', 'items', 'scattered', 'agenda', 'façade', 'unsafe', 'exemptions', 'going', 'landfills', 'needed', 'user-friendly', 'disorganized', 'works', 'fallen', 'mentorship', 'connecting', 'at-risk', 'poor', 'drainage', 'causes', 'ice', 'buildup', 'standing', 'incredibly', 'public-private', 'partnerships', 'fund', 'playgrounds', 'enrolling', 'technology', 'training', 'city-sponsored', 'properly', 'dispose', 'hazardous', 'household', \"aren't\", 'giving', 'cross', 'safely', 'centralized', 'coordination', 'marked', 'action', 'taken']\n"
     ]
    }
   ],
   "execution_count": 217
  },
  {
   "metadata": {
    "ExecuteTime": {
     "end_time": "2025-02-26T10:38:29.229570Z",
     "start_time": "2025-02-26T10:38:28.892788Z"
    }
   },
   "cell_type": "code",
   "source": [
    "x_train_dataset = np.zeros((len(x_train), len(features)))\n",
    "for i in range(len(x_train)):\n",
    "    word_list = [word.strip(string.punctuation).lower() for word in x_train[i].split()]\n",
    "    for word in word_list:\n",
    "        if word in features:\n",
    "            x_train_dataset[i][features.index(word)] += 1\n",
    "print(x_train_dataset)"
   ],
   "outputs": [
    {
     "name": "stdout",
     "output_type": "stream",
     "text": [
      "[[1. 1. 1. ... 0. 0. 0.]\n",
      " [0. 0. 0. ... 0. 0. 0.]\n",
      " [0. 1. 1. ... 0. 0. 0.]\n",
      " ...\n",
      " [0. 0. 0. ... 0. 0. 0.]\n",
      " [0. 0. 0. ... 0. 0. 0.]\n",
      " [0. 0. 0. ... 1. 1. 1.]]\n"
     ]
    }
   ],
   "execution_count": 218
  },
  {
   "metadata": {
    "ExecuteTime": {
     "end_time": "2025-02-26T10:38:29.428354Z",
     "start_time": "2025-02-26T10:38:29.331826Z"
    }
   },
   "cell_type": "code",
   "source": [
    "x_test_dataset = np.zeros((len(x_test), len(features)))\n",
    "for i in range(len(x_test)):\n",
    "    word_list = [word.strip(string.punctuation).lower() for word in x_train[i].split()]\n",
    "    for word in word_list:\n",
    "        if word in features:\n",
    "            x_train_dataset[i][features.index(word)] += 1\n"
   ],
   "outputs": [],
   "execution_count": 219
  },
  {
   "metadata": {
    "ExecuteTime": {
     "end_time": "2025-02-26T10:38:29.627572Z",
     "start_time": "2025-02-26T10:38:29.522043Z"
    }
   },
   "cell_type": "code",
   "source": [
    "from sklearn.naive_bayes import GaussianNB as NaiveBayes\n",
    "\n",
    "# Using sklearn's Multinomial Naive Bayes\n",
    "clf = NaiveBayes()\n",
    "clf.fit(x_train_dataset, y_train)\n",
    "Y_test_pred = clf.predict(x_test_dataset)\n",
    "sklearn_score_train = clf.score(x_train_dataset, y_train)\n",
    "print(\"Sklearn's score on training data :\", sklearn_score_train)\n",
    "sklearn_score_test = clf.score(x_test_dataset, y_test)\n",
    "print(\"Sklearn's score on testing data :\", sklearn_score_test)\n",
    "print(\"Classification report for testing data :-\")\n",
    "print(classification_report(y_test, Y_test_pred, zero_division=1))"
   ],
   "outputs": [
    {
     "name": "stdout",
     "output_type": "stream",
     "text": [
      "Sklearn's score on training data : 1.0\n",
      "Sklearn's score on testing data : 0.24705882352941178\n",
      "Classification report for testing data :-\n",
      "              precision    recall  f1-score   support\n",
      "\n",
      "   complaint       1.00      0.00      0.00        23\n",
      "  compliment       1.00      0.00      0.00        22\n",
      "     inquiry       0.25      1.00      0.40        21\n",
      "  suggestion       1.00      0.00      0.00        19\n",
      "\n",
      "    accuracy                           0.25        85\n",
      "   macro avg       0.81      0.25      0.10        85\n",
      "weighted avg       0.81      0.25      0.10        85\n",
      "\n"
     ]
    }
   ],
   "execution_count": 220
  },
  {
   "metadata": {
    "ExecuteTime": {
     "end_time": "2025-02-26T10:38:29.726097Z",
     "start_time": "2025-02-26T10:38:29.709563Z"
    }
   },
   "cell_type": "code",
   "source": [
    "for i in range(0, len(y_test), 10):\n",
    "    print(\"[\", Y_test_pred[i], y_test[i], \"]\")"
   ],
   "outputs": [
    {
     "name": "stdout",
     "output_type": "stream",
     "text": [
      "[ inquiry complaint ]\n",
      "[ inquiry inquiry ]\n",
      "[ inquiry complaint ]\n",
      "[ inquiry suggestion ]\n",
      "[ inquiry complaint ]\n",
      "[ inquiry complaint ]\n",
      "[ inquiry inquiry ]\n",
      "[ inquiry inquiry ]\n",
      "[ inquiry complaint ]\n"
     ]
    }
   ],
   "execution_count": 221
  },
  {
   "metadata": {
    "ExecuteTime": {
     "end_time": "2025-02-26T10:38:29.940849Z",
     "start_time": "2025-02-26T10:38:29.890638Z"
    }
   },
   "cell_type": "code",
   "source": [
    "import random\n",
    "\n",
    "print(classification_report(y_test, [\n",
    "    random.choice(['complaint', 'inquiry', 'suggestion', 'compliment']) for _ in y_test]))"
   ],
   "outputs": [
    {
     "name": "stdout",
     "output_type": "stream",
     "text": [
      "              precision    recall  f1-score   support\n",
      "\n",
      "   complaint       0.33      0.30      0.32        23\n",
      "  compliment       0.29      0.23      0.26        22\n",
      "     inquiry       0.18      0.19      0.19        21\n",
      "  suggestion       0.24      0.32      0.27        19\n",
      "\n",
      "    accuracy                           0.26        85\n",
      "   macro avg       0.26      0.26      0.26        85\n",
      "weighted avg       0.26      0.26      0.26        85\n",
      "\n"
     ]
    }
   ],
   "execution_count": 222
  }
 ],
 "metadata": {
  "kernelspec": {
   "display_name": "mpr_venv",
   "language": "python",
   "name": "python3"
  },
  "language_info": {
   "name": "python",
   "version": "3.12.0"
  }
 },
 "nbformat": 4,
 "nbformat_minor": 2
}
