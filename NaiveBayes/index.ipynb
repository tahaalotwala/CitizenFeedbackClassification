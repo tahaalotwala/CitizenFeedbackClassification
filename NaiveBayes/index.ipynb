{
 "cells": [
  {
   "cell_type": "code",
   "metadata": {
    "ExecuteTime": {
     "end_time": "2025-02-25T16:27:29.185606Z",
     "start_time": "2025-02-25T16:27:29.177988Z"
    }
   },
   "source": [
    "import os\n",
    "import string\n",
    "import numpy as np\n",
    "import pandas as pd\n",
    "import matplotlib.pyplot as plt\n",
    "from sklearn import model_selection\n",
    "from sklearn.metrics import classification_report\n",
    "\n",
    "from utils import stopwords"
   ],
   "outputs": [],
   "execution_count": 63
  },
  {
   "metadata": {
    "ExecuteTime": {
     "end_time": "2025-02-25T16:27:29.436638Z",
     "start_time": "2025-02-25T16:27:29.226433Z"
    }
   },
   "cell_type": "code",
   "source": [
    "df = pd.read_csv(\"data_extended.csv\")\n",
    "n = (len(df[\"Label\"]))\n",
    "x = []\n",
    "y = []\n",
    "for i in range(0, n):\n",
    "    x.append(df[\"Comment\"][i])\n",
    "    y.append(df[\"Label\"][i])\n",
    "\n",
    "x_train, x_test, y_train, y_test = model_selection.train_test_split(x, y, test_size=0.25,\n",
    "                                                                    random_state=0)\n"
   ],
   "outputs": [],
   "execution_count": 64
  },
  {
   "metadata": {
    "ExecuteTime": {
     "end_time": "2025-02-25T16:27:31.214210Z",
     "start_time": "2025-02-25T16:27:29.445654Z"
    }
   },
   "cell_type": "code",
   "source": [
    "vocab = {}\n",
    "for i in range(len(x_train)):\n",
    "    word_list = []\n",
    "    for word in x_train[i].split():\n",
    "        new_word = word.strip(string.punctuation).lower()\n",
    "        if (len(new_word) > 2) and (new_word not in stopwords):\n",
    "            if new_word in vocab:\n",
    "                vocab[new_word] += 1\n",
    "            else:\n",
    "                vocab[new_word] = 1\n"
   ],
   "outputs": [],
   "execution_count": 65
  },
  {
   "metadata": {
    "ExecuteTime": {
     "end_time": "2025-02-25T16:27:34.638730Z",
     "start_time": "2025-02-25T16:27:34.241894Z"
    }
   },
   "cell_type": "code",
   "source": [
    "num_words = [0 for i in range(max(vocab.values()) + 1)]\n",
    "freq = [i for i in range(max(vocab.values()) + 1)]\n",
    "for key in vocab:\n",
    "    num_words[vocab[key]] += 1\n",
    "plt.plot(freq, num_words)\n",
    "# plt.axis((1, 10, 0, 100))\n",
    "plt.xlabel(\"Frequency\")\n",
    "plt.ylabel(\"No. of words\")\n",
    "plt.grid()\n",
    "plt.show()"
   ],
   "outputs": [
    {
     "data": {
      "text/plain": [
       "<Figure size 640x480 with 1 Axes>"
      ],
      "image/png": "[encoded data removed]"
     },
     "metadata": {},
     "output_type": "display_data"
    }
   ],
   "execution_count": 73
  },
  {
   "metadata": {
    "ExecuteTime": {
     "end_time": "2025-02-25T16:27:34.758279Z",
     "start_time": "2025-02-25T16:27:34.744413Z"
    }
   },
   "cell_type": "code",
   "source": [
    "cutoff_freq = 1\n",
    "features = []\n",
    "for key in vocab:\n",
    "    if vocab[key] >= cutoff_freq:\n",
    "        features.append(key)\n",
    "\n",
    "print(features)"
   ],
   "outputs": [
    {
     "name": "stdout",
     "output_type": "stream",
     "text": [
      "['documents', 'required', 'renewing', 'driving', 'license', 'online', 'process', 'available', 'kindly', 'let', 'know', 'update', 'regarding', 'like', 'express', 'gratitude', 'healthcare', 'workers', 'government', 'hospitals', 'providing', 'excellent', 'medical', 'services', 'citizens', 'thank', 'continued', 'efforts', 'improving', 'country', 'public', 'transport', 'highly', 'unreliable', 'buses', 'run', 'time', 'frequency', 'low', 'making', 'daily', 'commuting', 'huge', 'problem', 'urgent', 'attention', 'appreciate', 'looked', 'soon', 'possible', 'tell', 'register', 'new', 'business', 'msme', 'scheme', 'need', 'guidance', 'passport', 'application', 'extremely', 'efficient', 'user-friendly', 'received', 'hassle', 'satisfied', 'water', 'supply', 'area', 'irregular', 'days', 'comes', 'quality', 'poor', 'resolve', 'issue', 'earliest', 'truly', 'recent', 'initiative', 'plant', 'trees', 'urban', 'areas', 'significantly', 'improved', 'greenery', 'neighborhood', 'improve', 'waste', 'management', 'recommend', 'setting', 'recycling', 'program', 'incentives', 'segregating', 'properly', 'really', 'help', 'current', 'benefit', 'people', 'consider', 'installing', 'streetlights', 'rural', 'safety', 'reduce', 'accidents', 'nighttime', 'dedicated', 'portal', 'track', 'grievances', 'check', 'status', 'complaints', 'great', 'implement', 'digital', 'monitoring', 'road', 'repairs', 'progress', 'real', 'kudos', 'traffic', 'police', 'maintaining', 'smooth', 'flow', 'city', 'hard', 'work', 'commendable', 'garbage', 'collection', 'inconsistent', 'streets', 'remain', 'dirty', 'leading', 'health', 'hazards', 'proper', 'place', 'cleanliness', 'drive', 'undertaken', 'local', 'authorities', 'noticeable', 'difference', 'cleaner', \"it's\", 'initiatives', 'provide', 'steps', 'apply', 'aadhaar', 'card', 'unable', 'correct', 'procedure', 'condition', 'roads', 'locality', 'potholes', 'dangerous', 'vehicles', 'pedestrians', 'alike', 'address', 'immediately', 'eligibility', 'criteria', 'availing', 'housing', 'share', 'details', 'helpline', 'number', 'report', 'lost', 'baggage', 'railway', 'station', 'immediate', 'assistance', 'suggest', 'increasing', 'libraries', 'smaller', 'towns', 'promote', 'education', 'accessibility', 'books', 'students', 'facing', 'severe', 'electricity', 'frequent', 'power', 'cuts', 'causing', 'lot', 'inconvenience', 'despite', 'multiple', 'action', 'taken']\n"
     ]
    }
   ],
   "execution_count": 74
  },
  {
   "metadata": {
    "ExecuteTime": {
     "end_time": "2025-02-25T16:27:36.720598Z",
     "start_time": "2025-02-25T16:27:34.825777Z"
    }
   },
   "cell_type": "code",
   "source": [
    "x_train_dataset = np.zeros((len(x_train), len(features)))\n",
    "for i in range(len(x_train)):\n",
    "    word_list = [word.strip(string.punctuation).lower() for word in x_train[i].split()]\n",
    "    for word in word_list:\n",
    "        if word in features:\n",
    "            x_train_dataset[i][features.index(word)] += 1"
   ],
   "outputs": [],
   "execution_count": 75
  },
  {
   "metadata": {
    "ExecuteTime": {
     "end_time": "2025-02-25T16:27:37.103169Z",
     "start_time": "2025-02-25T16:27:36.728628Z"
    }
   },
   "cell_type": "code",
   "source": [
    "x_test_dataset = np.zeros((len(x_test), len(features)))\n",
    "for i in range(len(x_test)):\n",
    "    word_list = [word.strip(string.punctuation).lower() for word in x_train[i].split()]\n",
    "    for word in word_list:\n",
    "        if word in features:\n",
    "            x_train_dataset[i][features.index(word)] += 1\n"
   ],
   "outputs": [],
   "execution_count": 76
  },
  {
   "metadata": {
    "ExecuteTime": {
     "end_time": "2025-02-25T16:27:37.240377Z",
     "start_time": "2025-02-25T16:27:37.136665Z"
    }
   },
   "cell_type": "code",
   "source": [
    "from sklearn.naive_bayes import MultinomialNB\n",
    "\n",
    "# Using sklearn's Multinomial Naive Bayes\n",
    "clf = MultinomialNB()\n",
    "clf.fit(x_train_dataset, y_train)\n",
    "Y_test_pred = clf.predict(x_test_dataset)\n",
    "sklearn_score_train = clf.score(x_train_dataset, y_train)\n",
    "print(\"Sklearn's score on training data :\", sklearn_score_train)\n",
    "sklearn_score_test = clf.score(x_test_dataset, y_test)\n",
    "print(\"Sklearn's score on testing data :\", sklearn_score_test)\n",
    "print(\"Classification report for testing data :-\")\n",
    "print(classification_report(y_test, Y_test_pred))"
   ],
   "outputs": [
    {
     "name": "stdout",
     "output_type": "stream",
     "text": [
      "Sklearn's score on training data : 1.0\n",
      "Sklearn's score on testing data : 0.2304\n",
      "Classification report for testing data :-\n",
      "              precision    recall  f1-score   support\n",
      "\n",
      "   Complaint       0.23      1.00      0.37       576\n",
      "  Compliment       0.00      0.00      0.00       663\n",
      "     Inquiry       0.00      0.00      0.00       631\n",
      "  Suggestion       0.00      0.00      0.00       630\n",
      "\n",
      "    accuracy                           0.23      2500\n",
      "   macro avg       0.06      0.25      0.09      2500\n",
      "weighted avg       0.05      0.23      0.09      2500\n",
      "\n"
     ]
    },
    {
     "name": "stderr",
     "output_type": "stream",
     "text": [
      "D:\\miniProjects\\MPR-Sem-6\\.venv\\Lib\\site-packages\\sklearn\\metrics\\_classification.py:1565: UndefinedMetricWarning: Precision is ill-defined and being set to 0.0 in labels with no predicted samples. Use `zero_division` parameter to control this behavior.\n",
      "  _warn_prf(average, modifier, f\"{metric.capitalize()} is\", len(result))\n",
      "D:\\miniProjects\\MPR-Sem-6\\.venv\\Lib\\site-packages\\sklearn\\metrics\\_classification.py:1565: UndefinedMetricWarning: Precision is ill-defined and being set to 0.0 in labels with no predicted samples. Use `zero_division` parameter to control this behavior.\n",
      "  _warn_prf(average, modifier, f\"{metric.capitalize()} is\", len(result))\n",
      "D:\\miniProjects\\MPR-Sem-6\\.venv\\Lib\\site-packages\\sklearn\\metrics\\_classification.py:1565: UndefinedMetricWarning: Precision is ill-defined and being set to 0.0 in labels with no predicted samples. Use `zero_division` parameter to control this behavior.\n",
      "  _warn_prf(average, modifier, f\"{metric.capitalize()} is\", len(result))\n"
     ]
    }
   ],
   "execution_count": 77
  },
  {
   "metadata": {
    "ExecuteTime": {
     "end_time": "2025-02-25T16:27:37.428832Z",
     "start_time": "2025-02-25T16:27:37.406706Z"
    }
   },
   "cell_type": "code",
   "source": [
    "for i in range(0, len(y_test), 10):\n",
    "    print(\"[\", Y_test_pred[i], y_test[i], \"]\")"
   ],
   "outputs": [
    {
     "name": "stdout",
     "output_type": "stream",
     "text": [
      "[ Complaint Suggestion ]\n",
      "[ Complaint Inquiry ]\n",
      "[ Complaint Compliment ]\n",
      "[ Complaint Compliment ]\n",
      "[ Complaint Complaint ]\n",
      "[ Complaint Inquiry ]\n",
      "[ Complaint Suggestion ]\n",
      "[ Complaint Compliment ]\n",
      "[ Complaint Inquiry ]\n",
      "[ Complaint Inquiry ]\n",
      "[ Complaint Suggestion ]\n",
      "[ Complaint Inquiry ]\n",
      "[ Complaint Inquiry ]\n",
      "[ Complaint Complaint ]\n",
      "[ Complaint Complaint ]\n",
      "[ Complaint Compliment ]\n",
      "[ Complaint Compliment ]\n",
      "[ Complaint Complaint ]\n",
      "[ Complaint Inquiry ]\n",
      "[ Complaint Suggestion ]\n",
      "[ Complaint Suggestion ]\n",
      "[ Complaint Inquiry ]\n",
      "[ Complaint Inquiry ]\n",
      "[ Complaint Suggestion ]\n",
      "[ Complaint Complaint ]\n",
      "[ Complaint Suggestion ]\n",
      "[ Complaint Complaint ]\n",
      "[ Complaint Inquiry ]\n",
      "[ Complaint Inquiry ]\n",
      "[ Complaint Compliment ]\n",
      "[ Complaint Compliment ]\n",
      "[ Complaint Compliment ]\n",
      "[ Complaint Inquiry ]\n",
      "[ Complaint Compliment ]\n",
      "[ Complaint Inquiry ]\n",
      "[ Complaint Inquiry ]\n",
      "[ Complaint Complaint ]\n",
      "[ Complaint Complaint ]\n",
      "[ Complaint Inquiry ]\n",
      "[ Complaint Inquiry ]\n",
      "[ Complaint Compliment ]\n",
      "[ Complaint Suggestion ]\n",
      "[ Complaint Compliment ]\n",
      "[ Complaint Compliment ]\n",
      "[ Complaint Compliment ]\n",
      "[ Complaint Compliment ]\n",
      "[ Complaint Suggestion ]\n",
      "[ Complaint Inquiry ]\n",
      "[ Complaint Compliment ]\n",
      "[ Complaint Inquiry ]\n",
      "[ Complaint Suggestion ]\n",
      "[ Complaint Suggestion ]\n",
      "[ Complaint Compliment ]\n",
      "[ Complaint Inquiry ]\n",
      "[ Complaint Suggestion ]\n",
      "[ Complaint Suggestion ]\n",
      "[ Complaint Suggestion ]\n",
      "[ Complaint Compliment ]\n",
      "[ Complaint Suggestion ]\n",
      "[ Complaint Suggestion ]\n",
      "[ Complaint Compliment ]\n",
      "[ Complaint Suggestion ]\n",
      "[ Complaint Compliment ]\n",
      "[ Complaint Inquiry ]\n",
      "[ Complaint Complaint ]\n",
      "[ Complaint Suggestion ]\n",
      "[ Complaint Compliment ]\n",
      "[ Complaint Complaint ]\n",
      "[ Complaint Inquiry ]\n",
      "[ Complaint Suggestion ]\n",
      "[ Complaint Suggestion ]\n",
      "[ Complaint Complaint ]\n",
      "[ Complaint Suggestion ]\n",
      "[ Complaint Compliment ]\n",
      "[ Complaint Compliment ]\n",
      "[ Complaint Compliment ]\n",
      "[ Complaint Inquiry ]\n",
      "[ Complaint Compliment ]\n",
      "[ Complaint Suggestion ]\n",
      "[ Complaint Complaint ]\n",
      "[ Complaint Complaint ]\n",
      "[ Complaint Inquiry ]\n",
      "[ Complaint Inquiry ]\n",
      "[ Complaint Complaint ]\n",
      "[ Complaint Complaint ]\n",
      "[ Complaint Complaint ]\n",
      "[ Complaint Compliment ]\n",
      "[ Complaint Compliment ]\n",
      "[ Complaint Suggestion ]\n",
      "[ Complaint Inquiry ]\n",
      "[ Complaint Inquiry ]\n",
      "[ Complaint Complaint ]\n",
      "[ Complaint Suggestion ]\n",
      "[ Complaint Suggestion ]\n",
      "[ Complaint Complaint ]\n",
      "[ Complaint Inquiry ]\n",
      "[ Complaint Inquiry ]\n",
      "[ Complaint Inquiry ]\n",
      "[ Complaint Complaint ]\n",
      "[ Complaint Suggestion ]\n",
      "[ Complaint Suggestion ]\n",
      "[ Complaint Complaint ]\n",
      "[ Complaint Complaint ]\n",
      "[ Complaint Complaint ]\n",
      "[ Complaint Suggestion ]\n",
      "[ Complaint Inquiry ]\n",
      "[ Complaint Suggestion ]\n",
      "[ Complaint Compliment ]\n",
      "[ Complaint Complaint ]\n",
      "[ Complaint Inquiry ]\n",
      "[ Complaint Inquiry ]\n",
      "[ Complaint Compliment ]\n",
      "[ Complaint Inquiry ]\n",
      "[ Complaint Compliment ]\n",
      "[ Complaint Suggestion ]\n",
      "[ Complaint Suggestion ]\n",
      "[ Complaint Compliment ]\n",
      "[ Complaint Suggestion ]\n",
      "[ Complaint Suggestion ]\n",
      "[ Complaint Complaint ]\n",
      "[ Complaint Compliment ]\n",
      "[ Complaint Compliment ]\n",
      "[ Complaint Inquiry ]\n",
      "[ Complaint Complaint ]\n",
      "[ Complaint Inquiry ]\n",
      "[ Complaint Inquiry ]\n",
      "[ Complaint Complaint ]\n",
      "[ Complaint Inquiry ]\n",
      "[ Complaint Inquiry ]\n",
      "[ Complaint Inquiry ]\n",
      "[ Complaint Compliment ]\n",
      "[ Complaint Suggestion ]\n",
      "[ Complaint Compliment ]\n",
      "[ Complaint Inquiry ]\n",
      "[ Complaint Compliment ]\n",
      "[ Complaint Suggestion ]\n",
      "[ Complaint Compliment ]\n",
      "[ Complaint Suggestion ]\n",
      "[ Complaint Suggestion ]\n",
      "[ Complaint Suggestion ]\n",
      "[ Complaint Complaint ]\n",
      "[ Complaint Compliment ]\n",
      "[ Complaint Complaint ]\n",
      "[ Complaint Complaint ]\n",
      "[ Complaint Suggestion ]\n",
      "[ Complaint Compliment ]\n",
      "[ Complaint Complaint ]\n",
      "[ Complaint Compliment ]\n",
      "[ Complaint Suggestion ]\n",
      "[ Complaint Complaint ]\n",
      "[ Complaint Inquiry ]\n",
      "[ Complaint Suggestion ]\n",
      "[ Complaint Suggestion ]\n",
      "[ Complaint Complaint ]\n",
      "[ Complaint Complaint ]\n",
      "[ Complaint Suggestion ]\n",
      "[ Complaint Inquiry ]\n",
      "[ Complaint Complaint ]\n",
      "[ Complaint Complaint ]\n",
      "[ Complaint Compliment ]\n",
      "[ Complaint Compliment ]\n",
      "[ Complaint Complaint ]\n",
      "[ Complaint Suggestion ]\n",
      "[ Complaint Suggestion ]\n",
      "[ Complaint Inquiry ]\n",
      "[ Complaint Complaint ]\n",
      "[ Complaint Inquiry ]\n",
      "[ Complaint Suggestion ]\n",
      "[ Complaint Compliment ]\n",
      "[ Complaint Compliment ]\n",
      "[ Complaint Complaint ]\n",
      "[ Complaint Complaint ]\n",
      "[ Complaint Complaint ]\n",
      "[ Complaint Suggestion ]\n",
      "[ Complaint Compliment ]\n",
      "[ Complaint Compliment ]\n",
      "[ Complaint Inquiry ]\n",
      "[ Complaint Inquiry ]\n",
      "[ Complaint Inquiry ]\n",
      "[ Complaint Suggestion ]\n",
      "[ Complaint Suggestion ]\n",
      "[ Complaint Suggestion ]\n",
      "[ Complaint Compliment ]\n",
      "[ Complaint Suggestion ]\n",
      "[ Complaint Inquiry ]\n",
      "[ Complaint Suggestion ]\n",
      "[ Complaint Complaint ]\n",
      "[ Complaint Complaint ]\n",
      "[ Complaint Suggestion ]\n",
      "[ Complaint Inquiry ]\n",
      "[ Complaint Compliment ]\n",
      "[ Complaint Inquiry ]\n",
      "[ Complaint Suggestion ]\n",
      "[ Complaint Suggestion ]\n",
      "[ Complaint Compliment ]\n",
      "[ Complaint Inquiry ]\n",
      "[ Complaint Inquiry ]\n",
      "[ Complaint Compliment ]\n",
      "[ Complaint Suggestion ]\n",
      "[ Complaint Complaint ]\n",
      "[ Complaint Compliment ]\n",
      "[ Complaint Complaint ]\n",
      "[ Complaint Inquiry ]\n",
      "[ Complaint Complaint ]\n",
      "[ Complaint Inquiry ]\n",
      "[ Complaint Suggestion ]\n",
      "[ Complaint Inquiry ]\n",
      "[ Complaint Suggestion ]\n",
      "[ Complaint Compliment ]\n",
      "[ Complaint Suggestion ]\n",
      "[ Complaint Complaint ]\n",
      "[ Complaint Inquiry ]\n",
      "[ Complaint Compliment ]\n",
      "[ Complaint Compliment ]\n",
      "[ Complaint Complaint ]\n",
      "[ Complaint Complaint ]\n",
      "[ Complaint Compliment ]\n",
      "[ Complaint Inquiry ]\n",
      "[ Complaint Suggestion ]\n",
      "[ Complaint Suggestion ]\n",
      "[ Complaint Complaint ]\n",
      "[ Complaint Compliment ]\n",
      "[ Complaint Compliment ]\n",
      "[ Complaint Complaint ]\n",
      "[ Complaint Inquiry ]\n",
      "[ Complaint Suggestion ]\n",
      "[ Complaint Complaint ]\n",
      "[ Complaint Suggestion ]\n",
      "[ Complaint Suggestion ]\n",
      "[ Complaint Compliment ]\n",
      "[ Complaint Inquiry ]\n",
      "[ Complaint Complaint ]\n",
      "[ Complaint Suggestion ]\n",
      "[ Complaint Inquiry ]\n",
      "[ Complaint Inquiry ]\n",
      "[ Complaint Compliment ]\n",
      "[ Complaint Inquiry ]\n",
      "[ Complaint Inquiry ]\n",
      "[ Complaint Compliment ]\n",
      "[ Complaint Suggestion ]\n",
      "[ Complaint Compliment ]\n",
      "[ Complaint Suggestion ]\n",
      "[ Complaint Inquiry ]\n",
      "[ Complaint Compliment ]\n",
      "[ Complaint Compliment ]\n",
      "[ Complaint Compliment ]\n",
      "[ Complaint Compliment ]\n",
      "[ Complaint Compliment ]\n",
      "[ Complaint Complaint ]\n",
      "[ Complaint Inquiry ]\n"
     ]
    }
   ],
   "execution_count": 78
  },
  {
   "metadata": {
    "ExecuteTime": {
     "end_time": "2025-02-25T16:27:37.744605Z",
     "start_time": "2025-02-25T16:27:37.630556Z"
    }
   },
   "cell_type": "code",
   "source": [
    "import random\n",
    "\n",
    "print(classification_report(y_test, [\n",
    "    random.choice(['Complaint', 'Inquiry', 'Suggestion', 'Compliment']) for _ in y_test]))"
   ],
   "outputs": [
    {
     "name": "stdout",
     "output_type": "stream",
     "text": [
      "              precision    recall  f1-score   support\n",
      "\n",
      "   Complaint       0.23      0.25      0.24       576\n",
      "  Compliment       0.26      0.25      0.25       663\n",
      "     Inquiry       0.26      0.26      0.26       631\n",
      "  Suggestion       0.23      0.22      0.22       630\n",
      "\n",
      "    accuracy                           0.25      2500\n",
      "   macro avg       0.25      0.25      0.25      2500\n",
      "weighted avg       0.25      0.25      0.25      2500\n",
      "\n"
     ]
    }
   ],
   "execution_count": 79
  }
 ],
 "metadata": {
  "kernelspec": {
   "display_name": "mpr_venv",
   "language": "python",
   "name": "python3"
  },
  "language_info": {
   "name": "python",
   "version": "3.12.0"
  }
 },
 "nbformat": 4,
 "nbformat_minor": 2
}
