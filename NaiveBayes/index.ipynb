{
 "cells": [
  {
   "cell_type": "code",
   "metadata": {
    "ExecuteTime": {
     "end_time": "2025-02-26T07:37:33.544635Z",
     "start_time": "2025-02-26T07:37:33.537430Z"
    }
   },
   "source": [
    "import os\n",
    "import string\n",
    "import numpy as np\n",
    "import pandas as pd\n",
    "import matplotlib.pyplot as plt\n",
    "from sklearn import model_selection\n",
    "from sklearn.metrics import classification_report\n",
    "\n",
    "from utils import stopwords"
   ],
   "outputs": [],
   "execution_count": 122
  },
  {
   "metadata": {
    "ExecuteTime": {
     "end_time": "2025-02-26T07:37:33.856209Z",
     "start_time": "2025-02-26T07:37:33.564636Z"
    }
   },
   "cell_type": "code",
   "source": [
    "df = pd.read_csv(\"datav3.csv\")\n",
    "n = (len(df[\"Label\"]))\n",
    "x = []\n",
    "y = []\n",
    "for i in range(0, n):\n",
    "    x.append(df[\"Comment\"][i])\n",
    "    y.append(df[\"Label\"][i])\n",
    "\n",
    "x_train, x_test, y_train, y_test = model_selection.train_test_split(x, y, test_size=0.25,\n",
    "                                                                    random_state=0)\n"
   ],
   "outputs": [],
   "execution_count": 123
  },
  {
   "metadata": {
    "ExecuteTime": {
     "end_time": "2025-02-26T07:37:36.164505Z",
     "start_time": "2025-02-26T07:37:33.919974Z"
    }
   },
   "cell_type": "code",
   "source": [
    "vocab = {}\n",
    "for i in range(len(x_train)):\n",
    "    word_list = []\n",
    "    for word in x_train[i].split():\n",
    "        new_word = word.strip(string.punctuation).lower()\n",
    "        # if (len(new_word) > 2) and (new_word not in stopwords):\n",
    "        if len(new_word) > 2:\n",
    "            if new_word in vocab:\n",
    "                vocab[new_word] += 1\n",
    "            else:\n",
    "                vocab[new_word] = 1\n"
   ],
   "outputs": [],
   "execution_count": 124
  },
  {
   "metadata": {
    "ExecuteTime": {
     "end_time": "2025-02-26T07:37:36.499089Z",
     "start_time": "2025-02-26T07:37:36.232510Z"
    }
   },
   "cell_type": "code",
   "source": [
    "num_words = [0 for i in range(max(vocab.values()) + 1)]\n",
    "freq = [i for i in range(max(vocab.values()) + 1)]\n",
    "for key in vocab:\n",
    "    num_words[vocab[key]] += 1\n",
    "plt.plot(freq, num_words)\n",
    "# plt.axis((1, 10, 0, 100))\n",
    "plt.xlabel(\"Frequency\")\n",
    "plt.ylabel(\"No. of words\")\n",
    "plt.grid()\n",
    "plt.show()"
   ],
   "outputs": [
    {
     "data": {
      "text/plain": [
       "<Figure size 640x480 with 1 Axes>"
      ],
      "image/png": "[encoded data removed]"
     },
     "metadata": {},
     "output_type": "display_data"
    }
   ],
   "execution_count": 125
  },
  {
   "metadata": {
    "ExecuteTime": {
     "end_time": "2025-02-26T07:37:36.685708Z",
     "start_time": "2025-02-26T07:37:36.666174Z"
    }
   },
   "cell_type": "code",
   "source": [
    "cutoff_freq = 1\n",
    "features = []\n",
    "for key in vocab:\n",
    "    if vocab[key] >= cutoff_freq:\n",
    "        features.append(key)\n",
    "\n",
    "print(features)"
   ],
   "outputs": [
    {
     "name": "stdout",
     "output_type": "stream",
     "text": [
      "['the', 'road', 'infrastructure', 'our', 'city', 'has', 'deteriorated', 'alarming', 'extent', 'there', 'are', 'large', 'potholes', 'broken', 'pavements', 'and', 'poorly', 'maintained', 'traffic', 'signals', 'which', 'have', 'led', 'increase', 'accidents', 'every', 'monsoon', 'situation', 'gets', 'worse', 'waterlogging', 'further', 'damages', 'roads', 'making', 'them', 'nearly', 'unusable', 'for', 'commuters', 'several', 'requests', 'been', 'submitted', 'municipal', 'corporation', 'yet', 'timely', 'action', 'taken', 'high', 'time', 'that', 'concerned', 'authorities', 'address', 'this', 'issue', 'repairing', 'installing', 'proper', 'drainage', 'systems', 'ensuring', 'maintenance', 'prevent', 'damage', 'please', 'escalate', 'matter', 'soon', 'possible', 'improve', 'urban', 'congestion', 'strongly', 'recommend', 'implementing', 'real-time', 'monitoring', 'system', 'integrated', 'with', 'ai-based', 'adaptive', 'signal', 'control', 'mechanism', 'many', 'cities', 'worldwide', 'successfully', 'adopted', 'such', 'technology', 'dynamically', 'adjust', 'timings', 'based', 'density', 'reducing', 'unnecessary', 'delays', 'improving', 'overall', 'flow', 'additionally', 'introducing', 'dedicated', 'bus', 'lanes', 'expanding', 'metro', 'connectivity', 'could', 'ease', 'believe', 'these', 'measures', 'would', 'significantly', 'mobility', 'reduce', 'travel', 'daily', 'suggestion', 'bring', 'significant', 'improvements', 'benefits', 'society', 'whole', 'want', 'sincerely', 'appreciate', 'remarkable', 'digital', 'governance', 'implementation', 'online', 'portals', 'tax', 'filing', 'passport', 'applications', 'grievance', 'redressal', 'reduced', 'bureaucratic', 'made', 'public', 'services', 'far', 'more', 'efficient', 'integration', 'aadhaar', 'authentication', 'secure', 'transactions', 'enhanced', 'transparency', \"government's\", 'continued', 'efforts', 'towards', 'digitalization', 'truly', 'commendable', 'should', 'expanded', 'other', 'sectors', 'well', 'thank', 'you', 'accessible', 'convenient', 'once', 'again', 'deeply', 'initiatives', 'hope', 'they', 'continue', 'future', 'quality', 'healthcare', 'rural', 'areas', 'needs', 'urgent', 'improvement', 'one', 'potential', 'solution', 'establish', 'telemedicine', 'centers', 'villages', 'where', 'patients', 'can', 'consult', 'doctors', 'remotely', 'via', 'video', 'calls', 'people', 'remote', 'regions', 'struggle', 'access', 'due', 'lack', 'facilities', 'setting', 'supported', 'trained', 'workers', 'basic', 'checkups', 'medication', 'distribution', 'bridge', 'gap', 'furthermore', 'government', 'launch', 'awareness', 'campaigns', 'educate', 'citizens', 'about', 'ensure', 'maximum', 'utilization', 'past', 'months', 'locality', 'experiencing', 'severe', 'electricity', 'outages', 'almost', 'single', 'day', 'not', 'only', 'affecting', 'lives', 'but', 'also', 'causing', 'serious', 'issues', 'students', 'working', 'professionals', 'elderly', 'who', 'rely', 'essential', 'appliances', 'despite', 'multiple', 'complaints', 'local', 'permanent', 'resolution', 'power', 'supply', 'fluctuates', 'frequently', 'damaging', 'electronic', 'impossible', 'work', 'from', 'home', 'urgently', 'request', 'before', 'worsens', 'cleanliness', 'undertaken', 'shown', 'fantastic', 'results', 'streets', 'parks', 'were', 'filled', 'garbage', 'now', 'well-maintained', 'waste', 'disposal', 'bins', 'placed', 'regular', 'intervals', 'encouraging', 'segregate', 'plastic', 'usage', 'played', 'vital', 'role', 'achieving', 'transformation', 'genuinely', 'hard', 'put', 'sanitation', 'make', 'surroundings', 'cleaner', 'healthier', 'maintain', 'standards', 'provide', 'step-by-step', 'instructions', 'how', 'register', 'government’s', 'insurance', 'scheme', 'like', 'know', 'eligibility', 'criteria', 'types', 'coverage', 'provided', 'process', 'claiming', 'helpful', 'understand', 'whether', 'different', 'plans', 'income', 'brackets', 'pre-existing', 'conditions', 'covered', 'portal', 'application', 'tracking', 'share', 'details', 'along', 'contact', 'information', 'customer', 'support', 'look', 'forward', 'receiving', 'necessary', 'guidance', 'regarding', 'query', 'need', 'detailed', 'applying', 'card', 'family', 'members', 'specifically', 'required', 'documents', 'processing', 'any', 'appointment', 'available', 'clarify', 'specific', 'age', 'restrictions', 'minors', 'biometric', 'verification', 'mandatory', 'applicants', 'helpline', 'numbers', 'official', 'website', 'track', 'status', 'seek', 'assistance']\n"
     ]
    }
   ],
   "execution_count": 126
  },
  {
   "metadata": {
    "ExecuteTime": {
     "end_time": "2025-02-26T07:37:43.269662Z",
     "start_time": "2025-02-26T07:37:36.832815Z"
    }
   },
   "cell_type": "code",
   "source": [
    "x_train_dataset = np.zeros((len(x_train), len(features)))\n",
    "for i in range(len(x_train)):\n",
    "    word_list = [word.strip(string.punctuation).lower() for word in x_train[i].split()]\n",
    "    for word in word_list:\n",
    "        if word in features:\n",
    "            x_train_dataset[i][features.index(word)] += 1\n",
    "print(x_train_dataset)"
   ],
   "outputs": [
    {
     "name": "stdout",
     "output_type": "stream",
     "text": [
      "[[6. 1. 1. ... 0. 0. 0.]\n",
      " [0. 0. 0. ... 0. 0. 0.]\n",
      " [0. 0. 0. ... 0. 0. 0.]\n",
      " ...\n",
      " [3. 0. 0. ... 0. 0. 0.]\n",
      " [4. 0. 0. ... 1. 1. 1.]\n",
      " [5. 0. 0. ... 0. 0. 0.]]\n"
     ]
    }
   ],
   "execution_count": 127
  },
  {
   "metadata": {
    "ExecuteTime": {
     "end_time": "2025-02-26T07:37:45.263336Z",
     "start_time": "2025-02-26T07:37:43.378612Z"
    }
   },
   "cell_type": "code",
   "source": [
    "x_test_dataset = np.zeros((len(x_test), len(features)))\n",
    "for i in range(len(x_test)):\n",
    "    word_list = [word.strip(string.punctuation).lower() for word in x_train[i].split()]\n",
    "    for word in word_list:\n",
    "        if word in features:\n",
    "            x_train_dataset[i][features.index(word)] += 1\n"
   ],
   "outputs": [],
   "execution_count": 128
  },
  {
   "metadata": {
    "ExecuteTime": {
     "end_time": "2025-02-26T07:38:30.398668Z",
     "start_time": "2025-02-26T07:38:30.241580Z"
    }
   },
   "cell_type": "code",
   "source": [
    "from sklearn.naive_bayes import MultinomialNB\n",
    "\n",
    "# Using sklearn's Multinomial Naive Bayes\n",
    "clf = MultinomialNB()\n",
    "clf.fit(x_train_dataset, y_train)\n",
    "Y_test_pred = clf.predict(x_test_dataset)\n",
    "sklearn_score_train = clf.score(x_train_dataset, y_train)\n",
    "print(\"Sklearn's score on training data :\", sklearn_score_train)\n",
    "sklearn_score_test = clf.score(x_test_dataset, y_test)\n",
    "print(\"Sklearn's score on testing data :\", sklearn_score_test)\n",
    "print(\"Classification report for testing data :-\")\n",
    "print(classification_report(y_test, Y_test_pred, zero_division=1))"
   ],
   "outputs": [
    {
     "ename": "ValueError",
     "evalue": "Found input variables with inconsistent numbers of samples: [7500, 10000]",
     "output_type": "error",
     "traceback": [
      "\u001B[1;31m---------------------------------------------------------------------------\u001B[0m",
      "\u001B[1;31mValueError\u001B[0m                                Traceback (most recent call last)",
      "Cell \u001B[1;32mIn[133], line 5\u001B[0m\n\u001B[0;32m      3\u001B[0m \u001B[38;5;66;03m# Using sklearn's Multinomial Naive Bayes\u001B[39;00m\n\u001B[0;32m      4\u001B[0m clf \u001B[38;5;241m=\u001B[39m MultinomialNB()\n\u001B[1;32m----> 5\u001B[0m \u001B[43mclf\u001B[49m\u001B[38;5;241;43m.\u001B[39;49m\u001B[43mfit\u001B[49m\u001B[43m(\u001B[49m\u001B[43mx_train_dataset\u001B[49m\u001B[43m,\u001B[49m\u001B[43m \u001B[49m\u001B[43my_train\u001B[49m\u001B[43m)\u001B[49m\n\u001B[0;32m      6\u001B[0m Y_test_pred \u001B[38;5;241m=\u001B[39m clf\u001B[38;5;241m.\u001B[39mpredict(x_test_dataset)\n\u001B[0;32m      7\u001B[0m sklearn_score_train \u001B[38;5;241m=\u001B[39m clf\u001B[38;5;241m.\u001B[39mscore(x_train_dataset, y_train)\n",
      "File \u001B[1;32mD:\\miniProjects\\MPR-Sem-6\\.venv\\Lib\\site-packages\\sklearn\\base.py:1389\u001B[0m, in \u001B[0;36m_fit_context.<locals>.decorator.<locals>.wrapper\u001B[1;34m(estimator, *args, **kwargs)\u001B[0m\n\u001B[0;32m   1382\u001B[0m     estimator\u001B[38;5;241m.\u001B[39m_validate_params()\n\u001B[0;32m   1384\u001B[0m \u001B[38;5;28;01mwith\u001B[39;00m config_context(\n\u001B[0;32m   1385\u001B[0m     skip_parameter_validation\u001B[38;5;241m=\u001B[39m(\n\u001B[0;32m   1386\u001B[0m         prefer_skip_nested_validation \u001B[38;5;129;01mor\u001B[39;00m global_skip_validation\n\u001B[0;32m   1387\u001B[0m     )\n\u001B[0;32m   1388\u001B[0m ):\n\u001B[1;32m-> 1389\u001B[0m     \u001B[38;5;28;01mreturn\u001B[39;00m \u001B[43mfit_method\u001B[49m\u001B[43m(\u001B[49m\u001B[43mestimator\u001B[49m\u001B[43m,\u001B[49m\u001B[43m \u001B[49m\u001B[38;5;241;43m*\u001B[39;49m\u001B[43margs\u001B[49m\u001B[43m,\u001B[49m\u001B[43m \u001B[49m\u001B[38;5;241;43m*\u001B[39;49m\u001B[38;5;241;43m*\u001B[39;49m\u001B[43mkwargs\u001B[49m\u001B[43m)\u001B[49m\n",
      "File \u001B[1;32mD:\\miniProjects\\MPR-Sem-6\\.venv\\Lib\\site-packages\\sklearn\\naive_bayes.py:735\u001B[0m, in \u001B[0;36m_BaseDiscreteNB.fit\u001B[1;34m(self, X, y, sample_weight)\u001B[0m\n\u001B[0;32m    714\u001B[0m \u001B[38;5;129m@_fit_context\u001B[39m(prefer_skip_nested_validation\u001B[38;5;241m=\u001B[39m\u001B[38;5;28;01mTrue\u001B[39;00m)\n\u001B[0;32m    715\u001B[0m \u001B[38;5;28;01mdef\u001B[39;00m\u001B[38;5;250m \u001B[39m\u001B[38;5;21mfit\u001B[39m(\u001B[38;5;28mself\u001B[39m, X, y, sample_weight\u001B[38;5;241m=\u001B[39m\u001B[38;5;28;01mNone\u001B[39;00m):\n\u001B[0;32m    716\u001B[0m \u001B[38;5;250m    \u001B[39m\u001B[38;5;124;03m\"\"\"Fit Naive Bayes classifier according to X, y.\u001B[39;00m\n\u001B[0;32m    717\u001B[0m \n\u001B[0;32m    718\u001B[0m \u001B[38;5;124;03m    Parameters\u001B[39;00m\n\u001B[1;32m   (...)\u001B[0m\n\u001B[0;32m    733\u001B[0m \u001B[38;5;124;03m        Returns the instance itself.\u001B[39;00m\n\u001B[0;32m    734\u001B[0m \u001B[38;5;124;03m    \"\"\"\u001B[39;00m\n\u001B[1;32m--> 735\u001B[0m     X, y \u001B[38;5;241m=\u001B[39m \u001B[38;5;28;43mself\u001B[39;49m\u001B[38;5;241;43m.\u001B[39;49m\u001B[43m_check_X_y\u001B[49m\u001B[43m(\u001B[49m\u001B[43mX\u001B[49m\u001B[43m,\u001B[49m\u001B[43m \u001B[49m\u001B[43my\u001B[49m\u001B[43m)\u001B[49m\n\u001B[0;32m    736\u001B[0m     _, n_features \u001B[38;5;241m=\u001B[39m X\u001B[38;5;241m.\u001B[39mshape\n\u001B[0;32m    738\u001B[0m     labelbin \u001B[38;5;241m=\u001B[39m LabelBinarizer()\n",
      "File \u001B[1;32mD:\\miniProjects\\MPR-Sem-6\\.venv\\Lib\\site-packages\\sklearn\\naive_bayes.py:581\u001B[0m, in \u001B[0;36m_BaseDiscreteNB._check_X_y\u001B[1;34m(self, X, y, reset)\u001B[0m\n\u001B[0;32m    579\u001B[0m \u001B[38;5;28;01mdef\u001B[39;00m\u001B[38;5;250m \u001B[39m\u001B[38;5;21m_check_X_y\u001B[39m(\u001B[38;5;28mself\u001B[39m, X, y, reset\u001B[38;5;241m=\u001B[39m\u001B[38;5;28;01mTrue\u001B[39;00m):\n\u001B[0;32m    580\u001B[0m \u001B[38;5;250m    \u001B[39m\u001B[38;5;124;03m\"\"\"Validate X and y in fit methods.\"\"\"\u001B[39;00m\n\u001B[1;32m--> 581\u001B[0m     \u001B[38;5;28;01mreturn\u001B[39;00m \u001B[43mvalidate_data\u001B[49m\u001B[43m(\u001B[49m\u001B[38;5;28;43mself\u001B[39;49m\u001B[43m,\u001B[49m\u001B[43m \u001B[49m\u001B[43mX\u001B[49m\u001B[43m,\u001B[49m\u001B[43m \u001B[49m\u001B[43my\u001B[49m\u001B[43m,\u001B[49m\u001B[43m \u001B[49m\u001B[43maccept_sparse\u001B[49m\u001B[38;5;241;43m=\u001B[39;49m\u001B[38;5;124;43m\"\u001B[39;49m\u001B[38;5;124;43mcsr\u001B[39;49m\u001B[38;5;124;43m\"\u001B[39;49m\u001B[43m,\u001B[49m\u001B[43m \u001B[49m\u001B[43mreset\u001B[49m\u001B[38;5;241;43m=\u001B[39;49m\u001B[43mreset\u001B[49m\u001B[43m)\u001B[49m\n",
      "File \u001B[1;32mD:\\miniProjects\\MPR-Sem-6\\.venv\\Lib\\site-packages\\sklearn\\utils\\validation.py:2961\u001B[0m, in \u001B[0;36mvalidate_data\u001B[1;34m(_estimator, X, y, reset, validate_separately, skip_check_array, **check_params)\u001B[0m\n\u001B[0;32m   2959\u001B[0m         y \u001B[38;5;241m=\u001B[39m check_array(y, input_name\u001B[38;5;241m=\u001B[39m\u001B[38;5;124m\"\u001B[39m\u001B[38;5;124my\u001B[39m\u001B[38;5;124m\"\u001B[39m, \u001B[38;5;241m*\u001B[39m\u001B[38;5;241m*\u001B[39mcheck_y_params)\n\u001B[0;32m   2960\u001B[0m     \u001B[38;5;28;01melse\u001B[39;00m:\n\u001B[1;32m-> 2961\u001B[0m         X, y \u001B[38;5;241m=\u001B[39m \u001B[43mcheck_X_y\u001B[49m\u001B[43m(\u001B[49m\u001B[43mX\u001B[49m\u001B[43m,\u001B[49m\u001B[43m \u001B[49m\u001B[43my\u001B[49m\u001B[43m,\u001B[49m\u001B[43m \u001B[49m\u001B[38;5;241;43m*\u001B[39;49m\u001B[38;5;241;43m*\u001B[39;49m\u001B[43mcheck_params\u001B[49m\u001B[43m)\u001B[49m\n\u001B[0;32m   2962\u001B[0m     out \u001B[38;5;241m=\u001B[39m X, y\n\u001B[0;32m   2964\u001B[0m \u001B[38;5;28;01mif\u001B[39;00m \u001B[38;5;129;01mnot\u001B[39;00m no_val_X \u001B[38;5;129;01mand\u001B[39;00m check_params\u001B[38;5;241m.\u001B[39mget(\u001B[38;5;124m\"\u001B[39m\u001B[38;5;124mensure_2d\u001B[39m\u001B[38;5;124m\"\u001B[39m, \u001B[38;5;28;01mTrue\u001B[39;00m):\n",
      "File \u001B[1;32mD:\\miniProjects\\MPR-Sem-6\\.venv\\Lib\\site-packages\\sklearn\\utils\\validation.py:1389\u001B[0m, in \u001B[0;36mcheck_X_y\u001B[1;34m(X, y, accept_sparse, accept_large_sparse, dtype, order, copy, force_writeable, force_all_finite, ensure_all_finite, ensure_2d, allow_nd, multi_output, ensure_min_samples, ensure_min_features, y_numeric, estimator)\u001B[0m\n\u001B[0;32m   1370\u001B[0m X \u001B[38;5;241m=\u001B[39m check_array(\n\u001B[0;32m   1371\u001B[0m     X,\n\u001B[0;32m   1372\u001B[0m     accept_sparse\u001B[38;5;241m=\u001B[39maccept_sparse,\n\u001B[1;32m   (...)\u001B[0m\n\u001B[0;32m   1384\u001B[0m     input_name\u001B[38;5;241m=\u001B[39m\u001B[38;5;124m\"\u001B[39m\u001B[38;5;124mX\u001B[39m\u001B[38;5;124m\"\u001B[39m,\n\u001B[0;32m   1385\u001B[0m )\n\u001B[0;32m   1387\u001B[0m y \u001B[38;5;241m=\u001B[39m _check_y(y, multi_output\u001B[38;5;241m=\u001B[39mmulti_output, y_numeric\u001B[38;5;241m=\u001B[39my_numeric, estimator\u001B[38;5;241m=\u001B[39mestimator)\n\u001B[1;32m-> 1389\u001B[0m \u001B[43mcheck_consistent_length\u001B[49m\u001B[43m(\u001B[49m\u001B[43mX\u001B[49m\u001B[43m,\u001B[49m\u001B[43m \u001B[49m\u001B[43my\u001B[49m\u001B[43m)\u001B[49m\n\u001B[0;32m   1391\u001B[0m \u001B[38;5;28;01mreturn\u001B[39;00m X, y\n",
      "File \u001B[1;32mD:\\miniProjects\\MPR-Sem-6\\.venv\\Lib\\site-packages\\sklearn\\utils\\validation.py:475\u001B[0m, in \u001B[0;36mcheck_consistent_length\u001B[1;34m(*arrays)\u001B[0m\n\u001B[0;32m    473\u001B[0m uniques \u001B[38;5;241m=\u001B[39m np\u001B[38;5;241m.\u001B[39munique(lengths)\n\u001B[0;32m    474\u001B[0m \u001B[38;5;28;01mif\u001B[39;00m \u001B[38;5;28mlen\u001B[39m(uniques) \u001B[38;5;241m>\u001B[39m \u001B[38;5;241m1\u001B[39m:\n\u001B[1;32m--> 475\u001B[0m     \u001B[38;5;28;01mraise\u001B[39;00m \u001B[38;5;167;01mValueError\u001B[39;00m(\n\u001B[0;32m    476\u001B[0m         \u001B[38;5;124m\"\u001B[39m\u001B[38;5;124mFound input variables with inconsistent numbers of samples: \u001B[39m\u001B[38;5;132;01m%r\u001B[39;00m\u001B[38;5;124m\"\u001B[39m\n\u001B[0;32m    477\u001B[0m         \u001B[38;5;241m%\u001B[39m [\u001B[38;5;28mint\u001B[39m(l) \u001B[38;5;28;01mfor\u001B[39;00m l \u001B[38;5;129;01min\u001B[39;00m lengths]\n\u001B[0;32m    478\u001B[0m     )\n",
      "\u001B[1;31mValueError\u001B[0m: Found input variables with inconsistent numbers of samples: [7500, 10000]"
     ]
    }
   ],
   "execution_count": 133
  },
  {
   "metadata": {
    "ExecuteTime": {
     "end_time": "2025-02-26T07:37:45.508138Z",
     "start_time": "2025-02-26T07:37:45.482473Z"
    }
   },
   "cell_type": "code",
   "source": [
    "for i in range(0, len(y_test), 10):\n",
    "    print(\"[\", Y_test_pred[i], y_test[i], \"]\")"
   ],
   "outputs": [
    {
     "name": "stdout",
     "output_type": "stream",
     "text": [
      "[ Inquiry Complaint ]\n",
      "[ Inquiry Complaint ]\n",
      "[ Inquiry Compliment ]\n",
      "[ Inquiry Inquiry ]\n",
      "[ Inquiry Suggestion ]\n",
      "[ Inquiry Suggestion ]\n",
      "[ Inquiry Complaint ]\n",
      "[ Inquiry Inquiry ]\n",
      "[ Inquiry Compliment ]\n",
      "[ Inquiry Complaint ]\n",
      "[ Inquiry Compliment ]\n",
      "[ Inquiry Complaint ]\n",
      "[ Inquiry Compliment ]\n",
      "[ Inquiry Complaint ]\n",
      "[ Inquiry Inquiry ]\n",
      "[ Inquiry Compliment ]\n",
      "[ Inquiry Inquiry ]\n",
      "[ Inquiry Suggestion ]\n",
      "[ Inquiry Inquiry ]\n",
      "[ Inquiry Complaint ]\n",
      "[ Inquiry Inquiry ]\n",
      "[ Inquiry Complaint ]\n",
      "[ Inquiry Suggestion ]\n",
      "[ Inquiry Compliment ]\n",
      "[ Inquiry Compliment ]\n",
      "[ Inquiry Suggestion ]\n",
      "[ Inquiry Complaint ]\n",
      "[ Inquiry Compliment ]\n",
      "[ Inquiry Compliment ]\n",
      "[ Inquiry Suggestion ]\n",
      "[ Inquiry Suggestion ]\n",
      "[ Inquiry Complaint ]\n",
      "[ Inquiry Complaint ]\n",
      "[ Inquiry Inquiry ]\n",
      "[ Inquiry Complaint ]\n",
      "[ Inquiry Suggestion ]\n",
      "[ Inquiry Compliment ]\n",
      "[ Inquiry Inquiry ]\n",
      "[ Inquiry Inquiry ]\n",
      "[ Inquiry Compliment ]\n",
      "[ Inquiry Compliment ]\n",
      "[ Inquiry Complaint ]\n",
      "[ Inquiry Inquiry ]\n",
      "[ Inquiry Compliment ]\n",
      "[ Inquiry Compliment ]\n",
      "[ Inquiry Inquiry ]\n",
      "[ Inquiry Suggestion ]\n",
      "[ Inquiry Suggestion ]\n",
      "[ Inquiry Inquiry ]\n",
      "[ Inquiry Compliment ]\n",
      "[ Inquiry Inquiry ]\n",
      "[ Inquiry Compliment ]\n",
      "[ Inquiry Inquiry ]\n",
      "[ Inquiry Complaint ]\n",
      "[ Inquiry Suggestion ]\n",
      "[ Inquiry Complaint ]\n",
      "[ Inquiry Inquiry ]\n",
      "[ Inquiry Complaint ]\n",
      "[ Inquiry Compliment ]\n",
      "[ Inquiry Complaint ]\n",
      "[ Inquiry Inquiry ]\n",
      "[ Inquiry Inquiry ]\n",
      "[ Inquiry Inquiry ]\n",
      "[ Inquiry Complaint ]\n",
      "[ Inquiry Suggestion ]\n",
      "[ Inquiry Suggestion ]\n",
      "[ Inquiry Suggestion ]\n",
      "[ Inquiry Suggestion ]\n",
      "[ Inquiry Complaint ]\n",
      "[ Inquiry Inquiry ]\n",
      "[ Inquiry Suggestion ]\n",
      "[ Inquiry Compliment ]\n",
      "[ Inquiry Suggestion ]\n",
      "[ Inquiry Inquiry ]\n",
      "[ Inquiry Inquiry ]\n",
      "[ Inquiry Compliment ]\n",
      "[ Inquiry Complaint ]\n",
      "[ Inquiry Complaint ]\n",
      "[ Inquiry Suggestion ]\n",
      "[ Inquiry Suggestion ]\n",
      "[ Inquiry Suggestion ]\n",
      "[ Inquiry Compliment ]\n",
      "[ Inquiry Suggestion ]\n",
      "[ Inquiry Complaint ]\n",
      "[ Inquiry Suggestion ]\n",
      "[ Inquiry Inquiry ]\n",
      "[ Inquiry Compliment ]\n",
      "[ Inquiry Suggestion ]\n",
      "[ Inquiry Complaint ]\n",
      "[ Inquiry Suggestion ]\n",
      "[ Inquiry Complaint ]\n",
      "[ Inquiry Inquiry ]\n",
      "[ Inquiry Complaint ]\n",
      "[ Inquiry Compliment ]\n",
      "[ Inquiry Complaint ]\n",
      "[ Inquiry Inquiry ]\n",
      "[ Inquiry Inquiry ]\n",
      "[ Inquiry Compliment ]\n",
      "[ Inquiry Compliment ]\n",
      "[ Inquiry Complaint ]\n",
      "[ Inquiry Inquiry ]\n",
      "[ Inquiry Inquiry ]\n",
      "[ Inquiry Suggestion ]\n",
      "[ Inquiry Suggestion ]\n",
      "[ Inquiry Complaint ]\n",
      "[ Inquiry Complaint ]\n",
      "[ Inquiry Suggestion ]\n",
      "[ Inquiry Inquiry ]\n",
      "[ Inquiry Suggestion ]\n",
      "[ Inquiry Compliment ]\n",
      "[ Inquiry Inquiry ]\n",
      "[ Inquiry Suggestion ]\n",
      "[ Inquiry Compliment ]\n",
      "[ Inquiry Suggestion ]\n",
      "[ Inquiry Compliment ]\n",
      "[ Inquiry Complaint ]\n",
      "[ Inquiry Inquiry ]\n",
      "[ Inquiry Inquiry ]\n",
      "[ Inquiry Complaint ]\n",
      "[ Inquiry Suggestion ]\n",
      "[ Inquiry Complaint ]\n",
      "[ Inquiry Complaint ]\n",
      "[ Inquiry Compliment ]\n",
      "[ Inquiry Inquiry ]\n",
      "[ Inquiry Inquiry ]\n",
      "[ Inquiry Compliment ]\n",
      "[ Inquiry Complaint ]\n",
      "[ Inquiry Inquiry ]\n",
      "[ Inquiry Suggestion ]\n",
      "[ Inquiry Suggestion ]\n",
      "[ Inquiry Complaint ]\n",
      "[ Inquiry Complaint ]\n",
      "[ Inquiry Complaint ]\n",
      "[ Inquiry Complaint ]\n",
      "[ Inquiry Complaint ]\n",
      "[ Inquiry Compliment ]\n",
      "[ Inquiry Suggestion ]\n",
      "[ Inquiry Inquiry ]\n",
      "[ Inquiry Complaint ]\n",
      "[ Inquiry Inquiry ]\n",
      "[ Inquiry Suggestion ]\n",
      "[ Inquiry Inquiry ]\n",
      "[ Inquiry Suggestion ]\n",
      "[ Inquiry Suggestion ]\n",
      "[ Inquiry Inquiry ]\n",
      "[ Inquiry Inquiry ]\n",
      "[ Inquiry Complaint ]\n",
      "[ Inquiry Compliment ]\n",
      "[ Inquiry Suggestion ]\n",
      "[ Inquiry Inquiry ]\n",
      "[ Inquiry Complaint ]\n",
      "[ Inquiry Compliment ]\n",
      "[ Inquiry Compliment ]\n",
      "[ Inquiry Complaint ]\n",
      "[ Inquiry Suggestion ]\n",
      "[ Inquiry Compliment ]\n",
      "[ Inquiry Complaint ]\n",
      "[ Inquiry Suggestion ]\n",
      "[ Inquiry Complaint ]\n",
      "[ Inquiry Suggestion ]\n",
      "[ Inquiry Inquiry ]\n",
      "[ Inquiry Suggestion ]\n",
      "[ Inquiry Complaint ]\n",
      "[ Inquiry Complaint ]\n",
      "[ Inquiry Suggestion ]\n",
      "[ Inquiry Complaint ]\n",
      "[ Inquiry Suggestion ]\n",
      "[ Inquiry Compliment ]\n",
      "[ Inquiry Inquiry ]\n",
      "[ Inquiry Suggestion ]\n",
      "[ Inquiry Inquiry ]\n",
      "[ Inquiry Inquiry ]\n",
      "[ Inquiry Suggestion ]\n",
      "[ Inquiry Suggestion ]\n",
      "[ Inquiry Inquiry ]\n",
      "[ Inquiry Compliment ]\n",
      "[ Inquiry Suggestion ]\n",
      "[ Inquiry Compliment ]\n",
      "[ Inquiry Complaint ]\n",
      "[ Inquiry Compliment ]\n",
      "[ Inquiry Inquiry ]\n",
      "[ Inquiry Suggestion ]\n",
      "[ Inquiry Inquiry ]\n",
      "[ Inquiry Compliment ]\n",
      "[ Inquiry Compliment ]\n",
      "[ Inquiry Inquiry ]\n",
      "[ Inquiry Inquiry ]\n",
      "[ Inquiry Inquiry ]\n",
      "[ Inquiry Suggestion ]\n",
      "[ Inquiry Complaint ]\n",
      "[ Inquiry Inquiry ]\n",
      "[ Inquiry Inquiry ]\n",
      "[ Inquiry Suggestion ]\n",
      "[ Inquiry Suggestion ]\n",
      "[ Inquiry Inquiry ]\n",
      "[ Inquiry Compliment ]\n",
      "[ Inquiry Compliment ]\n",
      "[ Inquiry Suggestion ]\n",
      "[ Inquiry Complaint ]\n",
      "[ Inquiry Suggestion ]\n",
      "[ Inquiry Complaint ]\n",
      "[ Inquiry Complaint ]\n",
      "[ Inquiry Compliment ]\n",
      "[ Inquiry Complaint ]\n",
      "[ Inquiry Compliment ]\n",
      "[ Inquiry Suggestion ]\n",
      "[ Inquiry Complaint ]\n",
      "[ Inquiry Compliment ]\n",
      "[ Inquiry Complaint ]\n",
      "[ Inquiry Suggestion ]\n",
      "[ Inquiry Suggestion ]\n",
      "[ Inquiry Complaint ]\n",
      "[ Inquiry Suggestion ]\n",
      "[ Inquiry Inquiry ]\n",
      "[ Inquiry Suggestion ]\n",
      "[ Inquiry Suggestion ]\n",
      "[ Inquiry Suggestion ]\n",
      "[ Inquiry Inquiry ]\n",
      "[ Inquiry Complaint ]\n",
      "[ Inquiry Inquiry ]\n",
      "[ Inquiry Inquiry ]\n",
      "[ Inquiry Complaint ]\n",
      "[ Inquiry Compliment ]\n",
      "[ Inquiry Suggestion ]\n",
      "[ Inquiry Complaint ]\n",
      "[ Inquiry Inquiry ]\n",
      "[ Inquiry Inquiry ]\n",
      "[ Inquiry Complaint ]\n",
      "[ Inquiry Complaint ]\n",
      "[ Inquiry Inquiry ]\n",
      "[ Inquiry Suggestion ]\n",
      "[ Inquiry Complaint ]\n",
      "[ Inquiry Compliment ]\n",
      "[ Inquiry Suggestion ]\n",
      "[ Inquiry Suggestion ]\n",
      "[ Inquiry Complaint ]\n",
      "[ Inquiry Complaint ]\n",
      "[ Inquiry Suggestion ]\n",
      "[ Inquiry Inquiry ]\n",
      "[ Inquiry Compliment ]\n",
      "[ Inquiry Suggestion ]\n",
      "[ Inquiry Complaint ]\n",
      "[ Inquiry Complaint ]\n",
      "[ Inquiry Compliment ]\n",
      "[ Inquiry Inquiry ]\n",
      "[ Inquiry Suggestion ]\n",
      "[ Inquiry Compliment ]\n",
      "[ Inquiry Inquiry ]\n",
      "[ Inquiry Suggestion ]\n",
      "[ Inquiry Suggestion ]\n"
     ]
    }
   ],
   "execution_count": 130
  },
  {
   "metadata": {
    "ExecuteTime": {
     "end_time": "2025-02-26T07:37:45.658595Z",
     "start_time": "2025-02-26T07:37:45.566139Z"
    }
   },
   "cell_type": "code",
   "source": [
    "import random\n",
    "\n",
    "print(classification_report(y_test, [\n",
    "    random.choice(['Complaint', 'Inquiry', 'Suggestion', 'Compliment']) for _ in y_test]))"
   ],
   "outputs": [
    {
     "name": "stdout",
     "output_type": "stream",
     "text": [
      "              precision    recall  f1-score   support\n",
      "\n",
      "   Complaint       0.22      0.21      0.22       630\n",
      "  Compliment       0.25      0.27      0.26       613\n",
      "     Inquiry       0.27      0.28      0.28       603\n",
      "  Suggestion       0.24      0.22      0.23       654\n",
      "\n",
      "    accuracy                           0.24      2500\n",
      "   macro avg       0.24      0.25      0.24      2500\n",
      "weighted avg       0.24      0.24      0.24      2500\n",
      "\n"
     ]
    }
   ],
   "execution_count": 131
  },
  {
   "metadata": {
    "ExecuteTime": {
     "end_time": "2025-02-26T07:38:30.155913Z",
     "start_time": "2025-02-26T07:37:45.719770Z"
    }
   },
   "cell_type": "code",
   "source": [
    "import pandas as pd\n",
    "import numpy as np\n",
    "from sklearn.feature_extraction.text import TfidfVectorizer\n",
    "from sklearn.metrics import classification_report, accuracy_score\n",
    "\n",
    "# Load datasets\n",
    "df_train = pd.read_csv(\"datav3.csv\")\n",
    "df_test = pd.read_csv(\"test.csv\")\n",
    "\n",
    "# Extract features and labels\n",
    "X_train = df_train[\"Comment\"]\n",
    "y_train = df_train[\"Label\"].map(\n",
    "    {\"Complaint\": 0, \"Inquiry\": 1, \"Suggestion\": 2, \"Compliment\": 3})\n",
    "X_test = df_test[\"Comment\"]\n",
    "y_test = df_test[\"Label\"].map(\n",
    "    {\"Complaint\": 0, \"Inquiry\": 1, \"Suggestion\": 2, \"Compliment\": 3})\n",
    "\n",
    "# Convert text to TF-IDF features\n",
    "tfidf = TfidfVectorizer(max_features=5000, ngram_range=(1, 2))\n",
    "X_train_tfidf = tfidf.fit_transform(X_train).toarray()\n",
    "X_test_tfidf = tfidf.transform(X_test).toarray()\n",
    "\n",
    "\n",
    "# Initialize weights and bias\n",
    "def sigmoid(z):\n",
    "    return 1 / (1 + np.exp(-z))\n",
    "\n",
    "\n",
    "def softmax(z):\n",
    "    exp_z = np.exp(z - np.max(z, axis=1, keepdims=True))  # Numerical stability\n",
    "    return exp_z / np.sum(exp_z, axis=1, keepdims=True)\n",
    "\n",
    "\n",
    "def train_logistic_regression(X, y, lr=0.01, epochs=1000):\n",
    "    m, n = X.shape\n",
    "    k = len(np.unique(y))  # Number of classes\n",
    "    weights = np.zeros((n, k))\n",
    "    bias = np.zeros(k)\n",
    "    y_one_hot = np.eye(k)[y]  # One-hot encoding\n",
    "\n",
    "    for _ in range(epochs):\n",
    "        linear_model = np.dot(X, weights) + bias\n",
    "        predictions = softmax(linear_model)\n",
    "\n",
    "        error = predictions - y_one_hot\n",
    "\n",
    "        weights -= lr * np.dot(X.T, error) / m\n",
    "        bias -= lr * np.mean(error, axis=0)\n",
    "\n",
    "    return weights, bias\n",
    "\n",
    "\n",
    "def predict(X, weights, bias):\n",
    "    linear_model = np.dot(X, weights) + bias\n",
    "    predictions = softmax(linear_model)\n",
    "    return np.argmax(predictions, axis=1)\n",
    "\n",
    "\n",
    "# Train model\n",
    "weights, bias = train_logistic_regression(X_train_tfidf, y_train.to_numpy())\n",
    "\n",
    "# Predictions\n",
    "y_pred = predict(X_test_tfidf, weights, bias)\n",
    "\n",
    "# Convert numerical predictions back to labels\n",
    "label_map = {0: \"Complaint\", 1: \"Inquiry\", 2: \"Suggestion\", 3: \"Compliment\"}\n",
    "y_pred_labels = np.array([label_map[val] for val in y_pred])\n",
    "y_test_labels = np.array([label_map[val] for val in y_test])\n",
    "\n",
    "# Print results\n",
    "print(\"Accuracy on Training Data:\",\n",
    "      accuracy_score(y_train, predict(X_train_tfidf, weights, bias)))\n",
    "print(\"Accuracy on Testing Data:\", accuracy_score(y_test, y_pred))\n",
    "print(\"Classification Report:\")\n",
    "print(classification_report(y_test_labels, y_pred_labels))\n"
   ],
   "outputs": [
    {
     "name": "stdout",
     "output_type": "stream",
     "text": [
      "Accuracy on Training Data: 1.0\n",
      "Accuracy on Testing Data: 0.0\n",
      "Classification Report:\n",
      "              precision    recall  f1-score   support\n",
      "\n",
      "   Complaint       0.00      0.00      0.00       1.0\n",
      "  Compliment       0.00      0.00      0.00       1.0\n",
      "  Suggestion       0.00      0.00      0.00       1.0\n",
      "\n",
      "    accuracy                           0.00       3.0\n",
      "   macro avg       0.00      0.00      0.00       3.0\n",
      "weighted avg       0.00      0.00      0.00       3.0\n",
      "\n"
     ]
    }
   ],
   "execution_count": 132
  }
 ],
 "metadata": {
  "kernelspec": {
   "display_name": "mpr_venv",
   "language": "python",
   "name": "python3"
  },
  "language_info": {
   "name": "python",
   "version": "3.12.0"
  }
 },
 "nbformat": 4,
 "nbformat_minor": 2
}
