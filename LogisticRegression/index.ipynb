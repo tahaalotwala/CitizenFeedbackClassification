{
 "cells": [
  {
   "cell_type": "code",
   "id": "initial_id",
   "metadata": {
    "collapsed": true,
    "ExecuteTime": {
     "end_time": "2025-02-26T10:39:13.662800Z",
     "start_time": "2025-02-26T10:39:13.650839Z"
    }
   },
   "source": [
    "import pandas as pd\n",
    "import numpy as np\n",
    "from sklearn.feature_extraction.text import TfidfVectorizer\n",
    "from sklearn.metrics import classification_report, accuracy_score\n",
    "from collections import Counter\n",
    "from sklearn.model_selection import train_test_split"
   ],
   "outputs": [],
   "execution_count": 282
  },
  {
   "metadata": {
    "ExecuteTime": {
     "end_time": "2025-02-26T10:39:13.722897Z",
     "start_time": "2025-02-26T10:39:13.679799Z"
    }
   },
   "cell_type": "code",
   "source": [
    "# Load datasets\n",
    "df_train = pd.read_csv(\"../data/datav6.csv\")\n",
    "df_test = pd.read_csv(\"../data/test.csv\")\n",
    "\n",
    "# Extract features and labels\n",
    "X_train = df_train[\"comment\"]\n",
    "y_train = df_train[\"label\"].map(\n",
    "    {\"complaint\": 0, \"inquiry\": 1, \"suggestion\": 2, \"compliment\": 3})\n",
    "X_test = df_test[\"comment\"]\n",
    "y_test = df_test[\"label\"].map(\n",
    "    {\"complaint\": 0, \"inquiry\": 1, \"suggestion\": 2, \"compliment\": 3})\n"
   ],
   "id": "a36b15398a4d1f48",
   "outputs": [],
   "execution_count": 283
  },
  {
   "metadata": {
    "ExecuteTime": {
     "end_time": "2025-02-26T10:39:13.782387Z",
     "start_time": "2025-02-26T10:39:13.762221Z"
    }
   },
   "cell_type": "code",
   "source": [
    "# df = pd.read_csv(\"../data/claude.csv\")\n",
    "# X = df[\"comment\"]\n",
    "# y = df[\"label\"].map({\"complaint\": 0, \"inquiry\": 1, \"suggestion\": 2, \"compliment\": 3})\n",
    "#\n",
    "# # Split the data into training and testing sets\n",
    "# X_train, X_test, y_train, y_test = train_test_split(X, y, test_size=0.2, random_state=42)"
   ],
   "id": "9b45c85a0f8f7bf7",
   "outputs": [],
   "execution_count": 284
  },
  {
   "metadata": {
    "ExecuteTime": {
     "end_time": "2025-02-26T10:39:13.898711Z",
     "start_time": "2025-02-26T10:39:13.848919Z"
    }
   },
   "cell_type": "code",
   "source": [
    "def compute_tfidf(corpus, vocab_index=None):\n",
    "    word_counts = [Counter(text.split()) for text in corpus]\n",
    "\n",
    "    if vocab_index is None:  # Create vocabulary only for training data\n",
    "        doc_freq = Counter(word for doc in word_counts for word in doc)\n",
    "        vocab = list(doc_freq.keys())\n",
    "        vocab_index = {word: i for i, word in enumerate(vocab)}\n",
    "    else:\n",
    "        vocab = list(vocab_index.keys())\n",
    "\n",
    "    num_docs = len(corpus)\n",
    "    tfidf_matrix = np.zeros((num_docs, len(vocab)))\n",
    "\n",
    "    for i, doc in enumerate(word_counts):\n",
    "        for word, count in doc.items():\n",
    "            if word in vocab_index:  # Use existing vocab\n",
    "                tf = count / sum(doc.values())  # Term Frequency\n",
    "                idf = np.log((len(vocab) + 1) / (\n",
    "                        1 + sum(1 for d in word_counts if word in d)))  # IDF\n",
    "                tfidf_matrix[i, vocab_index[word]] = tf * idf\n",
    "\n",
    "    return tfidf_matrix, vocab_index"
   ],
   "id": "3b07b9fffc84596d",
   "outputs": [],
   "execution_count": 285
  },
  {
   "metadata": {
    "ExecuteTime": {
     "end_time": "2025-02-26T10:39:14.047232Z",
     "start_time": "2025-02-26T10:39:13.950702Z"
    }
   },
   "cell_type": "code",
   "source": [
    "# Convert text to TF-IDF features\n",
    "tfidf = TfidfVectorizer(max_features=5000, ngram_range=(1, 2))\n",
    "X_train_tfidf = tfidf.fit_transform(X_train).toarray()\n",
    "X_test_tfidf = tfidf.transform(X_test).toarray()\n",
    "\n",
    "# X_train_tfidf, vocab_index = compute_tfidf(X_train)\n",
    "# X_test_tfidf, _ = compute_tfidf(X_test)\n"
   ],
   "id": "121415e0373e32a4",
   "outputs": [],
   "execution_count": 286
  },
  {
   "metadata": {
    "ExecuteTime": {
     "end_time": "2025-02-26T10:39:14.160757Z",
     "start_time": "2025-02-26T10:39:14.135760Z"
    }
   },
   "cell_type": "code",
   "source": [
    "def sigmoid(z):\n",
    "    return 1 / (1 + np.exp(-z))\n",
    "\n",
    "\n",
    "def softmax(z):\n",
    "    exp_z = np.exp(z - np.max(z, axis=1, keepdims=True))  # Numerical stability\n",
    "    return exp_z / np.sum(exp_z, axis=1, keepdims=True)\n",
    "\n",
    "\n",
    "def train_logistic_regression(X, y, lr=0.01, epochs=1000):\n",
    "    m, n = X.shape\n",
    "    k = len(np.unique(y))  # Number of classes\n",
    "    weights = np.zeros((n, k))\n",
    "    bias = np.zeros(k)\n",
    "    y_one_hot = np.eye(k)[y]  # One-hot encoding\n",
    "\n",
    "    for _ in range(epochs):\n",
    "        linear_model = np.dot(X, weights) + bias\n",
    "        predictions = softmax(linear_model)\n",
    "\n",
    "        error = predictions - y_one_hot\n",
    "\n",
    "        weights -= lr * np.dot(X.T, error) / m\n",
    "        bias -= lr * np.mean(error, axis=0)\n",
    "\n",
    "    return weights, bias\n",
    "\n",
    "\n",
    "def predict(X, weights, bias):\n",
    "    linear_model = np.dot(X, weights) + bias\n",
    "    predictions = softmax(linear_model)\n",
    "    return np.argmax(predictions, axis=1)\n",
    "\n"
   ],
   "id": "4849ad7173b56530",
   "outputs": [],
   "execution_count": 287
  },
  {
   "metadata": {
    "ExecuteTime": {
     "end_time": "2025-02-26T10:39:14.751083Z",
     "start_time": "2025-02-26T10:39:14.215082Z"
    }
   },
   "cell_type": "code",
   "source": [
    "# Train model\n",
    "weights, bias = train_logistic_regression(X_train_tfidf, y_train.to_numpy(), epochs=100)"
   ],
   "id": "87962040e358a03b",
   "outputs": [],
   "execution_count": 288
  },
  {
   "metadata": {
    "ExecuteTime": {
     "end_time": "2025-02-26T10:39:14.829772Z",
     "start_time": "2025-02-26T10:39:14.817773Z"
    }
   },
   "cell_type": "code",
   "source": [
    "# Predictions\n",
    "y_pred = predict(X_test_tfidf, weights, bias)\n"
   ],
   "id": "d8dab114a34a1cd5",
   "outputs": [],
   "execution_count": 289
  },
  {
   "metadata": {
    "ExecuteTime": {
     "end_time": "2025-02-26T10:39:15.077048Z",
     "start_time": "2025-02-26T10:39:14.998522Z"
    }
   },
   "cell_type": "code",
   "source": [
    "# Convert numerical predictions back to labels\n",
    "label_map = {0: \"Complaint\", 1: \"Inquiry\", 2: \"Suggestion\", 3: \"Compliment\"}\n",
    "y_pred_labels = np.array([label_map[val] for val in y_pred])\n",
    "y_test_labels = np.array([label_map[val] for val in y_test])\n",
    "\n",
    "# Print results\n",
    "print(\"Accuracy on Training Data:\",\n",
    "      accuracy_score(y_train, predict(X_train_tfidf, weights, bias)))\n",
    "print(\"Accuracy on Testing Data:\", accuracy_score(y_test, y_pred))\n",
    "print(\"Classification Report:\")\n",
    "print(classification_report(y_test_labels, y_pred_labels, zero_division=0))\n"
   ],
   "id": "8af0c7ebb1a91c31",
   "outputs": [
    {
     "name": "stdout",
     "output_type": "stream",
     "text": [
      "Accuracy on Training Data: 0.26666666666666666\n",
      "Accuracy on Testing Data: 0.17647058823529413\n",
      "Classification Report:\n",
      "              precision    recall  f1-score   support\n",
      "\n",
      "   Complaint       0.00      0.00      0.00        18\n",
      "  Compliment       0.00      0.00      0.00        18\n",
      "     Inquiry       0.00      0.00      0.00        20\n",
      "  Suggestion       0.18      1.00      0.30        12\n",
      "\n",
      "    accuracy                           0.18        68\n",
      "   macro avg       0.04      0.25      0.07        68\n",
      "weighted avg       0.03      0.18      0.05        68\n",
      "\n"
     ]
    }
   ],
   "execution_count": 290
  }
 ],
 "metadata": {
  "kernelspec": {
   "display_name": "Python 3",
   "language": "python",
   "name": "python3"
  },
  "language_info": {
   "codemirror_mode": {
    "name": "ipython",
    "version": 2
   },
   "file_extension": ".py",
   "mimetype": "text/x-python",
   "name": "python",
   "nbconvert_exporter": "python",
   "pygments_lexer": "ipython2",
   "version": "2.7.6"
  }
 },
 "nbformat": 4,
 "nbformat_minor": 5
}
