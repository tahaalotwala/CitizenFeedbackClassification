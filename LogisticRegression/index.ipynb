{
 "cells": [
  {
   "cell_type": "code",
   "id": "initial_id",
   "metadata": {
    "collapsed": true,
    "ExecuteTime": {
     "end_time": "2025-02-26T09:08:02.442713Z",
     "start_time": "2025-02-26T09:08:02.436106Z"
    }
   },
   "source": [
    "import pandas as pd\n",
    "import numpy as np\n",
    "from sklearn.feature_extraction.text import TfidfVectorizer\n",
    "from sklearn.metrics import classification_report, accuracy_score\n",
    "from collections import Counter\n",
    "from sklearn.model_selection import train_test_split"
   ],
   "outputs": [],
   "execution_count": 170
  },
  {
   "metadata": {
    "ExecuteTime": {
     "end_time": "2025-02-26T09:08:02.569421Z",
     "start_time": "2025-02-26T09:08:02.499626Z"
    }
   },
   "cell_type": "code",
   "source": [
    "# Load datasets\n",
    "df_train = pd.read_csv(\"../data/datav6.csv\")\n",
    "df_test = pd.read_csv(\"../data/test.csv\")\n",
    "\n",
    "# Extract features and labels\n",
    "X_train = df_train[\"comment\"]\n",
    "y_train = df_train[\"label\"].map(\n",
    "    {\"complaint\": 0, \"inquiry\": 1, \"suggestion\": 2, \"compliment\": 3})\n",
    "X_test = df_test[\"comment\"]\n",
    "y_test = df_test[\"label\"].map(\n",
    "    {\"complaint\": 0, \"inquiry\": 1, \"suggestion\": 2, \"compliment\": 3})\n"
   ],
   "id": "a36b15398a4d1f48",
   "outputs": [],
   "execution_count": 171
  },
  {
   "metadata": {
    "ExecuteTime": {
     "end_time": "2025-02-26T09:08:02.583419Z",
     "start_time": "2025-02-26T09:08:02.577421Z"
    }
   },
   "cell_type": "code",
   "source": [
    "# df = pd.read_csv(\"../data/sohail_data.csv\")\n",
    "# X = df[\"comment\"]\n",
    "# y = df[\"label\"].map({\"complaint\": 0, \"inquiry\": 1, \"suggestion\": 2, \"compliment\": 3})\n",
    "#\n",
    "# # Split the data into training and testing sets\n",
    "# X_train, X_test, y_train, y_test = train_test_split(X, y, test_size=0.2, random_state=42)"
   ],
   "id": "9b45c85a0f8f7bf7",
   "outputs": [],
   "execution_count": 172
  },
  {
   "metadata": {
    "ExecuteTime": {
     "end_time": "2025-02-26T09:08:02.626615Z",
     "start_time": "2025-02-26T09:08:02.611074Z"
    }
   },
   "cell_type": "code",
   "source": [
    "\n",
    "def compute_tfidf(corpus):\n",
    "    word_counts = [Counter(text.split()) for text in corpus]\n",
    "    doc_freq = Counter(word for doc in word_counts for word in doc)\n",
    "\n",
    "    num_docs = len(corpus)\n",
    "    vocab = list(doc_freq.keys())\n",
    "    vocab_index = {word: i for i, word in enumerate(vocab)}\n",
    "\n",
    "    tfidf_matrix = np.zeros((num_docs, len(vocab)))\n",
    "\n",
    "    for i, doc in enumerate(word_counts):\n",
    "        for word, count in doc.items():\n",
    "            if word in vocab_index:\n",
    "                tf = count / sum(doc.values())  # Term Frequency\n",
    "                idf = np.log(\n",
    "                    num_docs / (1 + doc_freq[word]))  # Inverse Document Frequency\n",
    "                tfidf_matrix[i, vocab_index[word]] = tf * idf\n",
    "\n",
    "    return tfidf_matrix, vocab_index\n",
    "\n",
    "# Compute TF-IDF manually"
   ],
   "id": "3b07b9fffc84596d",
   "outputs": [],
   "execution_count": 173
  },
  {
   "metadata": {
    "ExecuteTime": {
     "end_time": "2025-02-26T09:08:05.028289Z",
     "start_time": "2025-02-26T09:08:02.661423Z"
    }
   },
   "cell_type": "code",
   "source": [
    "# Convert text to TF-IDF features\n",
    "tfidf = TfidfVectorizer(max_features=5000, ngram_range=(1, 2))\n",
    "X_train_tfidf = tfidf.fit_transform(X_train).toarray()\n",
    "X_test_tfidf = tfidf.transform(X_test).toarray()\n",
    "# X_train_tfidf, vocab_index = compute_tfidf(X_train)\n",
    "# X_test_tfidf, _ = compute_tfidf(X_test)\n",
    "\n"
   ],
   "id": "121415e0373e32a4",
   "outputs": [],
   "execution_count": 174
  },
  {
   "metadata": {
    "ExecuteTime": {
     "end_time": "2025-02-26T09:08:05.091275Z",
     "start_time": "2025-02-26T09:08:05.071985Z"
    }
   },
   "cell_type": "code",
   "source": [
    "def sigmoid(z):\n",
    "    return 1 / (1 + np.exp(-z))\n",
    "\n",
    "\n",
    "def softmax(z):\n",
    "    exp_z = np.exp(z - np.max(z, axis=1, keepdims=True))  # Numerical stability\n",
    "    return exp_z / np.sum(exp_z, axis=1, keepdims=True)\n",
    "\n",
    "\n",
    "def train_logistic_regression(X, y, lr=0.01, epochs=1000):\n",
    "    m, n = X.shape\n",
    "    k = len(np.unique(y))  # Number of classes\n",
    "    weights = np.zeros((n, k))\n",
    "    bias = np.zeros(k)\n",
    "    y_one_hot = np.eye(k)[y]  # One-hot encoding\n",
    "\n",
    "    for _ in range(epochs):\n",
    "        linear_model = np.dot(X, weights) + bias\n",
    "        predictions = softmax(linear_model)\n",
    "\n",
    "        error = predictions - y_one_hot\n",
    "\n",
    "        weights -= lr * np.dot(X.T, error) / m\n",
    "        bias -= lr * np.mean(error, axis=0)\n",
    "\n",
    "    return weights, bias\n",
    "\n",
    "\n",
    "def predict(X, weights, bias):\n",
    "    linear_model = np.dot(X, weights) + bias\n",
    "    predictions = softmax(linear_model)\n",
    "    return np.argmax(predictions, axis=1)\n",
    "\n"
   ],
   "id": "4849ad7173b56530",
   "outputs": [],
   "execution_count": 175
  },
  {
   "metadata": {
    "ExecuteTime": {
     "end_time": "2025-02-26T09:08:28.167347Z",
     "start_time": "2025-02-26T09:08:05.127271Z"
    }
   },
   "cell_type": "code",
   "source": [
    "# Train model\n",
    "weights, bias = train_logistic_regression(X_train_tfidf, y_train.to_numpy(), epochs=100)"
   ],
   "id": "87962040e358a03b",
   "outputs": [],
   "execution_count": 176
  },
  {
   "metadata": {
    "ExecuteTime": {
     "end_time": "2025-02-26T09:08:28.250194Z",
     "start_time": "2025-02-26T09:08:28.205393Z"
    }
   },
   "cell_type": "code",
   "source": [
    "# Predictions\n",
    "y_pred = predict(X_test_tfidf, weights, bias)\n"
   ],
   "id": "d8dab114a34a1cd5",
   "outputs": [
    {
     "ename": "ValueError",
     "evalue": "shapes (20,232) and (6301,4) not aligned: 232 (dim 1) != 6301 (dim 0)",
     "output_type": "error",
     "traceback": [
      "\u001B[1;31m---------------------------------------------------------------------------\u001B[0m",
      "\u001B[1;31mValueError\u001B[0m                                Traceback (most recent call last)",
      "Cell \u001B[1;32mIn[177], line 2\u001B[0m\n\u001B[0;32m      1\u001B[0m \u001B[38;5;66;03m# Predictions\u001B[39;00m\n\u001B[1;32m----> 2\u001B[0m y_pred \u001B[38;5;241m=\u001B[39m \u001B[43mpredict\u001B[49m\u001B[43m(\u001B[49m\u001B[43mX_test_tfidf\u001B[49m\u001B[43m,\u001B[49m\u001B[43m \u001B[49m\u001B[43mweights\u001B[49m\u001B[43m,\u001B[49m\u001B[43m \u001B[49m\u001B[43mbias\u001B[49m\u001B[43m)\u001B[49m\n",
      "Cell \u001B[1;32mIn[175], line 30\u001B[0m, in \u001B[0;36mpredict\u001B[1;34m(X, weights, bias)\u001B[0m\n\u001B[0;32m     29\u001B[0m \u001B[38;5;28;01mdef\u001B[39;00m\u001B[38;5;250m \u001B[39m\u001B[38;5;21mpredict\u001B[39m(X, weights, bias):\n\u001B[1;32m---> 30\u001B[0m     linear_model \u001B[38;5;241m=\u001B[39m \u001B[43mnp\u001B[49m\u001B[38;5;241;43m.\u001B[39;49m\u001B[43mdot\u001B[49m\u001B[43m(\u001B[49m\u001B[43mX\u001B[49m\u001B[43m,\u001B[49m\u001B[43m \u001B[49m\u001B[43mweights\u001B[49m\u001B[43m)\u001B[49m \u001B[38;5;241m+\u001B[39m bias\n\u001B[0;32m     31\u001B[0m     predictions \u001B[38;5;241m=\u001B[39m softmax(linear_model)\n\u001B[0;32m     32\u001B[0m     \u001B[38;5;28;01mreturn\u001B[39;00m np\u001B[38;5;241m.\u001B[39margmax(predictions, axis\u001B[38;5;241m=\u001B[39m\u001B[38;5;241m1\u001B[39m)\n",
      "\u001B[1;31mValueError\u001B[0m: shapes (20,232) and (6301,4) not aligned: 232 (dim 1) != 6301 (dim 0)"
     ]
    }
   ],
   "execution_count": 177
  },
  {
   "metadata": {
    "ExecuteTime": {
     "end_time": "2025-02-26T09:08:28.296217100Z",
     "start_time": "2025-02-26T08:59:39.056603Z"
    }
   },
   "cell_type": "code",
   "source": [
    "# Convert numerical predictions back to labels\n",
    "label_map = {0: \"Complaint\", 1: \"Inquiry\", 2: \"Suggestion\", 3: \"Compliment\"}\n",
    "y_pred_labels = np.array([label_map[val] for val in y_pred])\n",
    "y_test_labels = np.array([label_map[val] for val in y_test])\n",
    "\n",
    "# Print results\n",
    "print(\"Accuracy on Training Data:\",\n",
    "      accuracy_score(y_train, predict(X_train_tfidf, weights, bias)))\n",
    "print(\"Accuracy on Testing Data:\", accuracy_score(y_test, y_pred))\n",
    "print(\"Classification Report:\")\n",
    "print(classification_report(y_test_labels, y_pred_labels, zero_division=0))\n"
   ],
   "id": "8af0c7ebb1a91c31",
   "outputs": [
    {
     "name": "stdout",
     "output_type": "stream",
     "text": [
      "Accuracy on Training Data: 1.0\n",
      "Accuracy on Testing Data: 0.7\n",
      "Classification Report:\n",
      "              precision    recall  f1-score   support\n",
      "\n",
      "   Complaint       0.67      0.40      0.50         5\n",
      "  Compliment       0.67      0.80      0.73         5\n",
      "     Inquiry       0.80      0.80      0.80         5\n",
      "  Suggestion       0.67      0.80      0.73         5\n",
      "\n",
      "    accuracy                           0.70        20\n",
      "   macro avg       0.70      0.70      0.69        20\n",
      "weighted avg       0.70      0.70      0.69        20\n",
      "\n"
     ]
    }
   ],
   "execution_count": 169
  },
  {
   "metadata": {
    "ExecuteTime": {
     "end_time": "2025-02-26T09:08:28.335192Z",
     "start_time": "2025-02-26T08:59:39.228736Z"
    }
   },
   "cell_type": "code",
   "source": "",
   "id": "49d309f85bb50d45",
   "outputs": [],
   "execution_count": null
  },
  {
   "metadata": {
    "ExecuteTime": {
     "end_time": "2025-02-26T09:08:28.338190100Z",
     "start_time": "2025-02-26T08:59:39.280561Z"
    }
   },
   "cell_type": "code",
   "source": "",
   "id": "8682e159208419bd",
   "outputs": [],
   "execution_count": null
  }
 ],
 "metadata": {
  "kernelspec": {
   "display_name": "Python 3",
   "language": "python",
   "name": "python3"
  },
  "language_info": {
   "codemirror_mode": {
    "name": "ipython",
    "version": 2
   },
   "file_extension": ".py",
   "mimetype": "text/x-python",
   "name": "python",
   "nbconvert_exporter": "python",
   "pygments_lexer": "ipython2",
   "version": "2.7.6"
  }
 },
 "nbformat": 4,
 "nbformat_minor": 5
}
